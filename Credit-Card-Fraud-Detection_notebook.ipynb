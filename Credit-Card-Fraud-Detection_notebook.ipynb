{
  "nbformat": 4,
  "nbformat_minor": 0,
  "metadata": {
    "colab": {
      "provenance": []
    },
    "kernelspec": {
      "name": "python3",
      "display_name": "Python 3"
    },
    "language_info": {
      "name": "python"
    }
  },
  "cells": [
    {
      "cell_type": "code",
      "source": [
        "# For data wrangling \n",
        "import numpy as np\n",
        "import pandas as pd\n",
        "\n",
        "# For visualization\n",
        "import matplotlib.pyplot as plt\n",
        "%matplotlib inline\n",
        "import seaborn as sns\n",
        "pd.options.display.max_rows = None #to show all rows\n",
        "pd.options.display.max_columns = None #to show all columns\n",
        "\n",
        "# For encoding categorical data\n",
        "from sklearn.preprocessing import OneHotEncoder\n",
        "\n",
        "# For scaling\n",
        "from sklearn.preprocessing import RobustScaler\n",
        "\n",
        "# For splitting data\n",
        "from sklearn.model_selection import train_test_split\n",
        "\n",
        "# For modelling\n",
        "from sklearn.model_selection import GridSearchCV\n",
        "from sklearn.tree import DecisionTreeClassifier\n",
        "from sklearn.svm import SVC\n",
        "from sklearn.neighbors import KNeighborsClassifier\n",
        "from sklearn.linear_model import LogisticRegression\n",
        "from sklearn.ensemble import RandomForestClassifier\n",
        "from xgboost import XGBClassifier\n",
        "from sklearn.preprocessing import PolynomialFeatures\n",
        "\n",
        "# For evaluation\n",
        "from sklearn.metrics import confusion_matrix, f1_score, classification_report, roc_auc_score, roc_curve"
      ],
      "metadata": {
        "id": "vU8wFYR-T7YS"
      },
      "execution_count": 1,
      "outputs": []
    },
    {
      "cell_type": "code",
      "source": [
        "df = pd.read_csv('creditcard.csv')"
      ],
      "metadata": {
        "id": "eaklMaONT7EL"
      },
      "execution_count": 2,
      "outputs": []
    },
    {
      "cell_type": "code",
      "source": [
        "df"
      ],
      "metadata": {
        "id": "3AUT-zl2V_3l"
      },
      "execution_count": 3,
      "outputs": []
    },
    {
      "cell_type": "code",
      "source": [
        "# verificando valores Nan\n",
        "# apenas 1 linha de Nan\n",
        "df.isna().sum()"
      ],
      "metadata": {
        "id": "ndVTNtt0WCpB"
      },
      "execution_count": 4,
      "outputs": []
    },
    {
      "cell_type": "code",
      "source": [
        "df.dropna(inplace=True)"
      ],
      "metadata": {
        "id": "5OE3yqtzWdYJ"
      },
      "execution_count": 5,
      "outputs": []
    },
    {
      "cell_type": "code",
      "source": [
        "df.dtypes"
      ],
      "metadata": {
        "id": "kd0dommqWIZX"
      },
      "execution_count": 6,
      "outputs": []
    },
    {
      "cell_type": "code",
      "source": [
        "# Aesthetics\n",
        "sns.set_style('darkgrid')\n",
        "sns.set_palette('Set2')\n",
        "mpl_color = sns.color_palette('Set2')\n",
        "\n",
        "# Plot features universal settings\n",
        "plt.rc('axes', titlesize=18)\n",
        "plt.rc('axes', labelsize=14)\n",
        "plt.rc('xtick', labelsize=13)\n",
        "plt.rc('ytick', labelsize=13)\n",
        "plt.rc('legend', fontsize=13)\n",
        "plt.rc('font', size=13)"
      ],
      "metadata": {
        "id": "3PnDKELvW5SP"
      },
      "execution_count": 7,
      "outputs": []
    },
    {
      "cell_type": "code",
      "source": [
        "df.shape"
      ],
      "metadata": {
        "colab": {
          "base_uri": "https://localhost:8080/"
        },
        "id": "PhPHBq1sW5sX",
        "outputId": "f9d3b7f0-0bdb-401d-dc26-2325d6661885"
      },
      "execution_count": 10,
      "outputs": [
        {
          "output_type": "execute_result",
          "data": {
            "text/plain": [
              "(284807, 30)"
            ]
          },
          "metadata": {},
          "execution_count": 10
        }
      ]
    },
    {
      "cell_type": "code",
      "source": [
        "df1 = df.copy() # Just in case\n",
        "df.drop('Time', axis = 1, inplace = True)\n",
        "print(df.head())"
      ],
      "metadata": {
        "colab": {
          "base_uri": "https://localhost:8080/"
        },
        "id": "u21n5Ya_WqGP",
        "outputId": "73a8055c-c378-417a-c652-3f96739230e3"
      },
      "execution_count": 9,
      "outputs": [
        {
          "output_type": "stream",
          "name": "stdout",
          "text": [
            "         V1        V2        V3        V4        V5        V6        V7  \\\n",
            "0 -1.359807 -0.072781  2.536347  1.378155 -0.338321  0.462388  0.239599   \n",
            "1  1.191857  0.266151  0.166480  0.448154  0.060018 -0.082361 -0.078803   \n",
            "2 -1.358354 -1.340163  1.773209  0.379780 -0.503198  1.800499  0.791461   \n",
            "3 -0.966272 -0.185226  1.792993 -0.863291 -0.010309  1.247203  0.237609   \n",
            "4 -1.158233  0.877737  1.548718  0.403034 -0.407193  0.095921  0.592941   \n",
            "\n",
            "         V8        V9       V10       V11       V12       V13       V14  \\\n",
            "0  0.098698  0.363787  0.090794 -0.551600 -0.617801 -0.991390 -0.311169   \n",
            "1  0.085102 -0.255425 -0.166974  1.612727  1.065235  0.489095 -0.143772   \n",
            "2  0.247676 -1.514654  0.207643  0.624501  0.066084  0.717293 -0.165946   \n",
            "3  0.377436 -1.387024 -0.054952 -0.226487  0.178228  0.507757 -0.287924   \n",
            "4 -0.270533  0.817739  0.753074 -0.822843  0.538196  1.345852 -1.119670   \n",
            "\n",
            "        V15       V16       V17       V18       V19       V20       V21  \\\n",
            "0  1.468177 -0.470401  0.207971  0.025791  0.403993  0.251412 -0.018307   \n",
            "1  0.635558  0.463917 -0.114805 -0.183361 -0.145783 -0.069083 -0.225775   \n",
            "2  2.345865 -2.890083  1.109969 -0.121359 -2.261857  0.524980  0.247998   \n",
            "3 -0.631418 -1.059647 -0.684093  1.965775 -1.232622 -0.208038 -0.108300   \n",
            "4  0.175121 -0.451449 -0.237033 -0.038195  0.803487  0.408542 -0.009431   \n",
            "\n",
            "        V22       V23       V24       V25       V26       V27       V28  \\\n",
            "0  0.277838 -0.110474  0.066928  0.128539 -0.189115  0.133558 -0.021053   \n",
            "1 -0.638672  0.101288 -0.339846  0.167170  0.125895 -0.008983  0.014724   \n",
            "2  0.771679  0.909412 -0.689281 -0.327642 -0.139097 -0.055353 -0.059752   \n",
            "3  0.005274 -0.190321 -1.175575  0.647376 -0.221929  0.062723  0.061458   \n",
            "4  0.798278 -0.137458  0.141267 -0.206010  0.502292  0.219422  0.215153   \n",
            "\n",
            "   Amount  Class  \n",
            "0  149.62      0  \n",
            "1    2.69      0  \n",
            "2  378.66      0  \n",
            "3  123.50      0  \n",
            "4   69.99      0  \n"
          ]
        }
      ]
    },
    {
      "cell_type": "code",
      "source": [
        "dup = df[df.duplicated()]\n",
        "print(\"Búmero de linhas duplicadas total:\", len(dup))\n",
        "print(\"Búmero de linhas duplicadas na coluna Fraud cases:\", len(dup[dup[\"Class\"]==1]))\n",
        "print(\"Búmero de linhas duplicadas na coluna No Fraud cases:\", len(dup[dup[\"Class\"]==0]))"
      ],
      "metadata": {
        "colab": {
          "base_uri": "https://localhost:8080/"
        },
        "id": "IDQto_bNZuML",
        "outputId": "2abfd1e8-1e35-4b22-aa20-69a2328d65ad"
      },
      "execution_count": 14,
      "outputs": [
        {
          "output_type": "stream",
          "name": "stdout",
          "text": [
            "Búmero de linhas duplicadas total: 0\n",
            "Búmero de linhas duplicadas na coluna Fraud cases: 0\n",
            "Búmero de linhas duplicadas na coluna No Fraud cases: 0\n"
          ]
        }
      ]
    },
    {
      "cell_type": "code",
      "source": [
        "total = len(df)\n",
        "df.drop_duplicates(inplace=True)\n",
        "print(total - len(df), \"linhas duplicadas removidas\")\n",
        "print(\"Total de linhas que sobrou\", len(df))"
      ],
      "metadata": {
        "colab": {
          "base_uri": "https://localhost:8080/"
        },
        "id": "Ll9B7C2VZteI",
        "outputId": "04df0d6c-fac6-4f80-9c3a-e6c517d7aeb0"
      },
      "execution_count": 15,
      "outputs": [
        {
          "output_type": "stream",
          "name": "stdout",
          "text": [
            "0 linhas duplicadas removidas\n",
            "Total de linhas que sobrou 275663\n"
          ]
        }
      ]
    },
    {
      "cell_type": "code",
      "source": [
        "cases = len(df)\n",
        "nonfraud_count = len(df[df.Class == 0])\n",
        "fraud_count = len(df[df.Class == 1])\n",
        "fraud_percentage = round(fraud_count/cases*100, 3)\n",
        "print(\"Total de casos :{}  casos de fraude:\".format(cases), fraud_count)\n",
        "print(\"Total de casos :{}  casos de não fraude:\".format(cases), nonfraud_count)\n",
        "print(\"Percentage of fraudes  :\", fraud_percentage)\n",
        "\n",
        "plt.figure(figsize = (8, 8))\n",
        "pie_data = [df.Class[df[\"Class\"] == 1].count(), df.Class[df[\"Class\"] == 0].count()]\n",
        "pie_labels = [\"Fraud\", \"Genuine\"]\n",
        "plt.pie(pie_data, labels = pie_labels, explode = [1, 0], shadow = True, colors = mpl_color[1:3], autopct = \"%.3f%%\")\n",
        "plt.title(\"Proportion of fraud transactions\", size = 20)\n",
        "plt.show()"
      ],
      "metadata": {
        "colab": {
          "base_uri": "https://localhost:8080/",
          "height": 539
        },
        "id": "UGwUC7n8aCRl",
        "outputId": "a8523273-8149-468c-e68e-a151a11ce58c"
      },
      "execution_count": 18,
      "outputs": [
        {
          "output_type": "stream",
          "name": "stdout",
          "text": [
            "Total de casos :275663  casos de fraude: 473\n",
            "Total de casos :275663  casos de não fraude: 275190\n",
            "Percentage of fraudes  : 0.172\n"
          ]
        },
        {
          "output_type": "display_data",
          "data": {
            "text/plain": [
              "<Figure size 576x576 with 1 Axes>"
            ],
            "image/png": "[encoded data removed]"
          },
          "metadata": {}
        }
      ]
    },
    {
      "cell_type": "markdown",
      "source": [
        "Do total de 275.663 casos, apenas 0,172% dos casos são fraudes, o que causa um problema de desequilíbrio em nosso conjunto de dados.\n",
        "A avaliação de nossos modelos finais será, portanto, feita não com base na precisão dos modelos, mas com base no número de transações de fraude corretamente previstas de todas as transações de fraude reais, ou seja, o recall de nosso algoritmo."
      ],
      "metadata": {
        "id": "OKM3vmVXezYd"
      }
    },
    {
      "cell_type": "code",
      "source": [
        "print(df[df['Class']==0].Amount.describe())\n",
        "print(df[df['Class']==1].Amount.describe())"
      ],
      "metadata": {
        "colab": {
          "base_uri": "https://localhost:8080/"
        },
        "id": "GtoCcV0Lb_5n",
        "outputId": "4e53c907-47dd-404c-ba5b-4db925352de6"
      },
      "execution_count": 19,
      "outputs": [
        {
          "output_type": "stream",
          "name": "stdout",
          "text": [
            "count    275190.000000\n",
            "mean         90.521154\n",
            "std         253.198478\n",
            "min           0.000000\n",
            "25%           6.390000\n",
            "50%          23.750000\n",
            "75%          79.900000\n",
            "max       25691.160000\n",
            "Name: Amount, dtype: float64\n",
            "count     473.000000\n",
            "mean      123.871860\n",
            "std       260.211041\n",
            "min         0.000000\n",
            "25%         1.000000\n",
            "50%         9.820000\n",
            "75%       105.890000\n",
            "max      2125.870000\n",
            "Name: Amount, dtype: float64\n"
          ]
        }
      ]
    },
    {
      "cell_type": "markdown",
      "source": [
        "O intervalo de dados da coluna Amount precisa der padronizado para o modelo prever as classes corretamente.\n",
        "Será usado o RobustScaler para fazer isso, pois ele é robusto aos outliers, já que ele remove a mediana e dimensiona os dados no intervalo entre o primeiro e o terceiro quartil."
      ],
      "metadata": {
        "id": "4HgMRSSefiDp"
      }
    },
    {
      "cell_type": "code",
      "source": [
        "scaler = RobustScaler()\n",
        "df['Amount'] = scaler.fit_transform(df[['Amount']])"
      ],
      "metadata": {
        "id": "IdfWLP7vgeee"
      },
      "execution_count": 21,
      "outputs": []
    },
    {
      "cell_type": "markdown",
      "source": [
        "Mesmo que não saibamos quais são os recursos \"V\", ainda precisamos saber o quanto eles influenciam a variável de destino (Fraud ou No Fraud). Por ter um dataframe desequilibrado, não poderemos ver as verdadeiras correlações entre a classe e os recursos. Portanto, devemos subamostrar a Classe 0 para reduzi-la a proporções iguais com a Classe 1."
      ],
      "metadata": {
        "id": "-be7MR3Ph1QJ"
      }
    },
    {
      "cell_type": "markdown",
      "source": [
        "Antes de subamostrar, precisamos ter um conjunto de dados de teste dos dados originais, esses dados de teste devem ser completamente novos para o modelo durante as previsões. Portanto, faremos uma divisão de teste e de treino e prosseguiremos com a subamostragem."
      ],
      "metadata": {
        "id": "wFsb5OnqjJCH"
      }
    },
    {
      "cell_type": "code",
      "source": [
        "X_orig = df.loc[:,df.columns != \"Class\"]\n",
        "y_orig = df.Class\n",
        "X_train, X_test, y_train, y_test = train_test_split(X_orig, y_orig, test_size = 0.2)"
      ],
      "metadata": {
        "id": "ePHXk0RlhuEK"
      },
      "execution_count": 25,
      "outputs": []
    },
    {
      "cell_type": "markdown",
      "source": [
        "Undersampling"
      ],
      "metadata": {
        "id": "wWJtUIhxkd_9"
      }
    },
    {
      "cell_type": "code",
      "source": [
        "df_train = pd.concat([X_train, y_train], axis=1)\n",
        "print(\"Porcentagem dos casos de fraude:\", round(len(df_train[df_train.Class == 1])/len(df_train)*100, 3))\n",
        "print(\"Número de casos de fraude:\", len(df_train[df_train.Class == 1]))\n",
        "\n",
        "# Lets shuffle the data before creating the new balanced dataframe\n",
        "df_train = df_train.sample(frac=1)\n",
        "\n",
        "fraud_df_train = df_train.loc[df_train['Class'] == 1]\n",
        "non_fraud_df_train = df_train.loc[df_train['Class'] == 0][:len(fraud_df_train)]\n",
        "\n",
        "balanced_df_train = pd.concat([fraud_df_train, non_fraud_df_train])\n",
        "\n",
        "# Shuffle again\n",
        "balanced_df_train = balanced_df_train.sample(frac=1, random_state=42)\n",
        "print(\"Porcentagem dos casos de fraude depois do rebalanceamento:\", round(len(balanced_df_train[balanced_df_train.Class == 1])/len(balanced_df_train)*100, 3))\n",
        "print(\"Número de casos de fraude depois do rebalanceamento:\", len(balanced_df_train[balanced_df_train.Class == 1]))\n",
        "balanced_df_train.info()"
      ],
      "metadata": {
        "colab": {
          "base_uri": "https://localhost:8080/"
        },
        "id": "ewhUtYCijxLx",
        "outputId": "0f3f53bb-7fc0-425c-8c94-38bc9e04a871"
      },
      "execution_count": 26,
      "outputs": [
        {
          "output_type": "stream",
          "name": "stdout",
          "text": [
            "Porcentagem dos casos de fraude: 0.172\n",
            "Número de casos de fraude: 380\n",
            "Porcentagem dos casos de fraude depois do rebalanceamento: 50.0\n",
            "Número de casos de fraude depois do rebalanceamento: 380\n",
            "<class 'pandas.core.frame.DataFrame'>\n",
            "Int64Index: 760 entries, 176002 to 79525\n",
            "Data columns (total 30 columns):\n",
            " #   Column  Non-Null Count  Dtype  \n",
            "---  ------  --------------  -----  \n",
            " 0   V1      760 non-null    float64\n",
            " 1   V2      760 non-null    float64\n",
            " 2   V3      760 non-null    float64\n",
            " 3   V4      760 non-null    float64\n",
            " 4   V5      760 non-null    float64\n",
            " 5   V6      760 non-null    float64\n",
            " 6   V7      760 non-null    float64\n",
            " 7   V8      760 non-null    float64\n",
            " 8   V9      760 non-null    float64\n",
            " 9   V10     760 non-null    float64\n",
            " 10  V11     760 non-null    float64\n",
            " 11  V12     760 non-null    float64\n",
            " 12  V13     760 non-null    float64\n",
            " 13  V14     760 non-null    float64\n",
            " 14  V15     760 non-null    float64\n",
            " 15  V16     760 non-null    float64\n",
            " 16  V17     760 non-null    float64\n",
            " 17  V18     760 non-null    float64\n",
            " 18  V19     760 non-null    float64\n",
            " 19  V20     760 non-null    float64\n",
            " 20  V21     760 non-null    float64\n",
            " 21  V22     760 non-null    float64\n",
            " 22  V23     760 non-null    float64\n",
            " 23  V24     760 non-null    float64\n",
            " 24  V25     760 non-null    float64\n",
            " 25  V26     760 non-null    float64\n",
            " 26  V27     760 non-null    float64\n",
            " 27  V28     760 non-null    float64\n",
            " 28  Amount  760 non-null    float64\n",
            " 29  Class   760 non-null    int64  \n",
            "dtypes: float64(29), int64(1)\n",
            "memory usage: 184.1 KB\n"
          ]
        }
      ]
    },
    {
      "cell_type": "markdown",
      "source": [
        "Verificando a correlação após a subamostragem\n",
        "Vamos verificar a matriz de correlação e obter mais insights que possam afetar a variável target."
      ],
      "metadata": {
        "id": "73KaMOilknbB"
      }
    },
    {
      "cell_type": "code",
      "source": [
        "balanced_df_train.corr()[\"Class\"][:-1].to_frame().sort_values('Class', ascending=False)"
      ],
      "metadata": {
        "colab": {
          "base_uri": "https://localhost:8080/",
          "height": 959
        },
        "id": "oO9-4aWgmebd",
        "outputId": "546b9739-da82-407e-b3f6-d0de04e85ff0"
      },
      "execution_count": 38,
      "outputs": [
        {
          "output_type": "execute_result",
          "data": {
            "text/plain": [
              "           Class\n",
              "V4      0.691873\n",
              "V11     0.680115\n",
              "V2      0.474969\n",
              "V19     0.262790\n",
              "V20     0.188410\n",
              "V8      0.111115\n",
              "V21     0.105007\n",
              "V27     0.103227\n",
              "V28     0.080464\n",
              "Amount  0.071274\n",
              "V26     0.051925\n",
              "V22     0.037249\n",
              "V25    -0.000195\n",
              "V23    -0.010318\n",
              "V13    -0.036259\n",
              "V15    -0.038680\n",
              "V24    -0.095209\n",
              "V5     -0.361510\n",
              "V6     -0.410193\n",
              "V1     -0.413454\n",
              "V18    -0.449991\n",
              "V7     -0.467304\n",
              "V9     -0.525681\n",
              "V17    -0.550877\n",
              "V3     -0.563321\n",
              "V16    -0.586340\n",
              "V10    -0.628609\n",
              "V12    -0.684133\n",
              "V14    -0.743260"
            ],
            "text/html": [
              "\n",
              "  <div id=\"df-38e4d05d-b519-4745-a7a7-8bce0812ddd3\">\n",
              "    <div class=\"colab-df-container\">\n",
              "      <div>\n",
              "<style scoped>\n",
              "    .dataframe tbody tr th:only-of-type {\n",
              "        vertical-align: middle;\n",
              "    }\n",
              "\n",
              "    .dataframe tbody tr th {\n",
              "        vertical-align: top;\n",
              "    }\n",
              "\n",
              "    .dataframe thead th {\n",
              "        text-align: right;\n",
              "    }\n",
              "</style>\n",
              "<table border=\"1\" class=\"dataframe\">\n",
              "  <thead>\n",
              "    <tr style=\"text-align: right;\">\n",
              "      <th></th>\n",
              "      <th>Class</th>\n",
              "    </tr>\n",
              "  </thead>\n",
              "  <tbody>\n",
              "    <tr>\n",
              "      <th>V4</th>\n",
              "      <td>0.691873</td>\n",
              "    </tr>\n",
              "    <tr>\n",
              "      <th>V11</th>\n",
              "      <td>0.680115</td>\n",
              "    </tr>\n",
              "    <tr>\n",
              "      <th>V2</th>\n",
              "      <td>0.474969</td>\n",
              "    </tr>\n",
              "    <tr>\n",
              "      <th>V19</th>\n",
              "      <td>0.262790</td>\n",
              "    </tr>\n",
              "    <tr>\n",
              "      <th>V20</th>\n",
              "      <td>0.188410</td>\n",
              "    </tr>\n",
              "    <tr>\n",
              "      <th>V8</th>\n",
              "      <td>0.111115</td>\n",
              "    </tr>\n",
              "    <tr>\n",
              "      <th>V21</th>\n",
              "      <td>0.105007</td>\n",
              "    </tr>\n",
              "    <tr>\n",
              "      <th>V27</th>\n",
              "      <td>0.103227</td>\n",
              "    </tr>\n",
              "    <tr>\n",
              "      <th>V28</th>\n",
              "      <td>0.080464</td>\n",
              "    </tr>\n",
              "    <tr>\n",
              "      <th>Amount</th>\n",
              "      <td>0.071274</td>\n",
              "    </tr>\n",
              "    <tr>\n",
              "      <th>V26</th>\n",
              "      <td>0.051925</td>\n",
              "    </tr>\n",
              "    <tr>\n",
              "      <th>V22</th>\n",
              "      <td>0.037249</td>\n",
              "    </tr>\n",
              "    <tr>\n",
              "      <th>V25</th>\n",
              "      <td>-0.000195</td>\n",
              "    </tr>\n",
              "    <tr>\n",
              "      <th>V23</th>\n",
              "      <td>-0.010318</td>\n",
              "    </tr>\n",
              "    <tr>\n",
              "      <th>V13</th>\n",
              "      <td>-0.036259</td>\n",
              "    </tr>\n",
              "    <tr>\n",
              "      <th>V15</th>\n",
              "      <td>-0.038680</td>\n",
              "    </tr>\n",
              "    <tr>\n",
              "      <th>V24</th>\n",
              "      <td>-0.095209</td>\n",
              "    </tr>\n",
              "    <tr>\n",
              "      <th>V5</th>\n",
              "      <td>-0.361510</td>\n",
              "    </tr>\n",
              "    <tr>\n",
              "      <th>V6</th>\n",
              "      <td>-0.410193</td>\n",
              "    </tr>\n",
              "    <tr>\n",
              "      <th>V1</th>\n",
              "      <td>-0.413454</td>\n",
              "    </tr>\n",
              "    <tr>\n",
              "      <th>V18</th>\n",
              "      <td>-0.449991</td>\n",
              "    </tr>\n",
              "    <tr>\n",
              "      <th>V7</th>\n",
              "      <td>-0.467304</td>\n",
              "    </tr>\n",
              "    <tr>\n",
              "      <th>V9</th>\n",
              "      <td>-0.525681</td>\n",
              "    </tr>\n",
              "    <tr>\n",
              "      <th>V17</th>\n",
              "      <td>-0.550877</td>\n",
              "    </tr>\n",
              "    <tr>\n",
              "      <th>V3</th>\n",
              "      <td>-0.563321</td>\n",
              "    </tr>\n",
              "    <tr>\n",
              "      <th>V16</th>\n",
              "      <td>-0.586340</td>\n",
              "    </tr>\n",
              "    <tr>\n",
              "      <th>V10</th>\n",
              "      <td>-0.628609</td>\n",
              "    </tr>\n",
              "    <tr>\n",
              "      <th>V12</th>\n",
              "      <td>-0.684133</td>\n",
              "    </tr>\n",
              "    <tr>\n",
              "      <th>V14</th>\n",
              "      <td>-0.743260</td>\n",
              "    </tr>\n",
              "  </tbody>\n",
              "</table>\n",
              "</div>\n",
              "      <button class=\"colab-df-convert\" onclick=\"convertToInteractive('df-38e4d05d-b519-4745-a7a7-8bce0812ddd3')\"\n",
              "              title=\"Convert this dataframe to an interactive table.\"\n",
              "              style=\"display:none;\">\n",
              "        \n",
              "  <svg xmlns=\"http://www.w3.org/2000/svg\" height=\"24px\"viewBox=\"0 0 24 24\"\n",
              "       width=\"24px\">\n",
              "    <path d=\"M0 0h24v24H0V0z\" fill=\"none\"/>\n",
              "    <path d=\"M18.56 5.44l.94 2.06.94-2.06 2.06-.94-2.06-.94-.94-2.06-.94 2.06-2.06.94zm-11 1L8.5 8.5l.94-2.06 2.06-.94-2.06-.94L8.5 2.5l-.94 2.06-2.06.94zm10 10l.94 2.06.94-2.06 2.06-.94-2.06-.94-.94-2.06-.94 2.06-2.06.94z\"/><path d=\"M17.41 7.96l-1.37-1.37c-.4-.4-.92-.59-1.43-.59-.52 0-1.04.2-1.43.59L10.3 9.45l-7.72 7.72c-.78.78-.78 2.05 0 2.83L4 21.41c.39.39.9.59 1.41.59.51 0 1.02-.2 1.41-.59l7.78-7.78 2.81-2.81c.8-.78.8-2.07 0-2.86zM5.41 20L4 18.59l7.72-7.72 1.47 1.35L5.41 20z\"/>\n",
              "  </svg>\n",
              "      </button>\n",
              "      \n",
              "  <style>\n",
              "    .colab-df-container {\n",
              "      display:flex;\n",
              "      flex-wrap:wrap;\n",
              "      gap: 12px;\n",
              "    }\n",
              "\n",
              "    .colab-df-convert {\n",
              "      background-color: #E8F0FE;\n",
              "      border: none;\n",
              "      border-radius: 50%;\n",
              "      cursor: pointer;\n",
              "      display: none;\n",
              "      fill: #1967D2;\n",
              "      height: 32px;\n",
              "      padding: 0 0 0 0;\n",
              "      width: 32px;\n",
              "    }\n",
              "\n",
              "    .colab-df-convert:hover {\n",
              "      background-color: #E2EBFA;\n",
              "      box-shadow: 0px 1px 2px rgba(60, 64, 67, 0.3), 0px 1px 3px 1px rgba(60, 64, 67, 0.15);\n",
              "      fill: #174EA6;\n",
              "    }\n",
              "\n",
              "    [theme=dark] .colab-df-convert {\n",
              "      background-color: #3B4455;\n",
              "      fill: #D2E3FC;\n",
              "    }\n",
              "\n",
              "    [theme=dark] .colab-df-convert:hover {\n",
              "      background-color: #434B5C;\n",
              "      box-shadow: 0px 1px 3px 1px rgba(0, 0, 0, 0.15);\n",
              "      filter: drop-shadow(0px 1px 2px rgba(0, 0, 0, 0.3));\n",
              "      fill: #FFFFFF;\n",
              "    }\n",
              "  </style>\n",
              "\n",
              "      <script>\n",
              "        const buttonEl =\n",
              "          document.querySelector('#df-38e4d05d-b519-4745-a7a7-8bce0812ddd3 button.colab-df-convert');\n",
              "        buttonEl.style.display =\n",
              "          google.colab.kernel.accessAllowed ? 'block' : 'none';\n",
              "\n",
              "        async function convertToInteractive(key) {\n",
              "          const element = document.querySelector('#df-38e4d05d-b519-4745-a7a7-8bce0812ddd3');\n",
              "          const dataTable =\n",
              "            await google.colab.kernel.invokeFunction('convertToInteractive',\n",
              "                                                     [key], {});\n",
              "          if (!dataTable) return;\n",
              "\n",
              "          const docLinkHtml = 'Like what you see? Visit the ' +\n",
              "            '<a target=\"_blank\" href=https://colab.research.google.com/notebooks/data_table.ipynb>data table notebook</a>'\n",
              "            + ' to learn more about interactive tables.';\n",
              "          element.innerHTML = '';\n",
              "          dataTable['output_type'] = 'display_data';\n",
              "          await google.colab.output.renderOutput(dataTable, element);\n",
              "          const docLink = document.createElement('div');\n",
              "          docLink.innerHTML = docLinkHtml;\n",
              "          element.appendChild(docLink);\n",
              "        }\n",
              "      </script>\n",
              "    </div>\n",
              "  </div>\n",
              "  "
            ]
          },
          "metadata": {},
          "execution_count": 38
        }
      ]
    },
    {
      "cell_type": "code",
      "source": [
        "matrix = df.corr().round(2)\n",
        "mask = np.triu(np.ones_like(matrix, dtype=bool))\n",
        "plt.figure(figsize=(22,12)) \n",
        "sns.heatmap(matrix, annot=True, vmax=0.7, vmin=-1, center=0, cmap='vlag', mask=mask)\n",
        "plt.show()"
      ],
      "metadata": {
        "colab": {
          "base_uri": "https://localhost:8080/",
          "height": 742
        },
        "id": "AWnff7Uqk9K7",
        "outputId": "91a9e579-5cf5-4839-ef74-dc0e0d44816f"
      },
      "execution_count": 30,
      "outputs": [
        {
          "output_type": "display_data",
          "data": {
            "text/plain": [
              "<Figure size 1584x864 with 2 Axes>"
            ],
            "image/png": "[encoded data removed]"
          },
          "metadata": {}
        }
      ]
    },
    {
      "cell_type": "markdown",
      "source": [
        "Maiores correlações negativas - V14 V12 V10\n",
        "Maiores correlações positivas - V11 V4"
      ],
      "metadata": {
        "id": "Dz_UuGSknF1P"
      }
    },
    {
      "cell_type": "markdown",
      "source": [
        "Vamos ver como se comportam as de maior correlação negativa"
      ],
      "metadata": {
        "id": "GcWrkyA_m_ws"
      }
    },
    {
      "cell_type": "code",
      "source": [
        "fig, ax = plt.subplots(ncols=3, figsize=(12,6), tight_layout = True)\n",
        "sns.boxplot(x=\"Class\",y=\"V14\", data=balanced_df_train, ax=ax[0])\n",
        "sns.boxplot(x=\"Class\",y=\"V12\", data=balanced_df_train, ax=ax[1])\n",
        "sns.boxplot(x=\"Class\",y=\"V10\", data=balanced_df_train, ax=ax[2])\n",
        "\n",
        "plt.show()"
      ],
      "metadata": {
        "colab": {
          "base_uri": "https://localhost:8080/",
          "height": 435
        },
        "id": "6Qa8TRNEl4SF",
        "outputId": "ceb78442-72b4-41fa-eded-4288d0d8a94b"
      },
      "execution_count": 39,
      "outputs": [
        {
          "output_type": "display_data",
          "data": {
            "text/plain": [
              "<Figure size 864x432 with 3 Axes>"
            ],
            "image/png": "[encoded data removed]"
          },
          "metadata": {}
        }
      ]
    },
    {
      "cell_type": "markdown",
      "source": [
        "Vamos ver como se comportam as de maior correlação positiva"
      ],
      "metadata": {
        "id": "zRRnVtWMnZ4T"
      }
    },
    {
      "cell_type": "code",
      "source": [
        "fig, ax = plt.subplots(ncols=2, figsize=(8,6), tight_layout = True)\n",
        "sns.boxplot(x=\"Class\",y=\"V11\", data=balanced_df_train, ax=ax[0])\n",
        "sns.boxplot(x=\"Class\",y=\"V4\", data=balanced_df_train, ax=ax[1])\n",
        "\n",
        "plt.show()"
      ],
      "metadata": {
        "colab": {
          "base_uri": "https://localhost:8080/",
          "height": 435
        },
        "id": "1yEKN0Sgm6xN",
        "outputId": "0ba7f358-9b5a-4c0b-99a8-2d3a81de0e17"
      },
      "execution_count": 45,
      "outputs": [
        {
          "output_type": "display_data",
          "data": {
            "text/plain": [
              "<Figure size 576x432 with 2 Axes>"
            ],
            "image/png": "[encoded data removed]"
          },
          "metadata": {}
        }
      ]
    },
    {
      "cell_type": "markdown",
      "source": [
        "Precisamos agora cuidar dos outliers, pois prever um caso de não fraude como sendo fraude também é importante para não desmotivar os clientes idôneos "
      ],
      "metadata": {
        "id": "mY6p7XkAns0w"
      }
    },
    {
      "cell_type": "code",
      "source": [
        "out_features = [\"V14\", \"V12\", \"V10\",\"V11\",\"V4\"]\n",
        "for feature in out_features:\n",
        "    Q1 = balanced_df_train[feature].quantile(0.25)\n",
        "    Q3 = balanced_df_train[feature].quantile(0.75)\n",
        "    IQR = Q3-Q1\n",
        "    top = Q3 + 1.5*IQR # Not necessary for negatively correlated features\n",
        "    bottom = Q1 - 1.5*IQR\n",
        "\n",
        "    index = balanced_df_train[(balanced_df_train[feature] < bottom)].index\n",
        "    print(len(index), \" outliers da coluna \", feature, \" foram removidos do dataset\")\n",
        "    balanced_df_train = balanced_df_train.drop(index)"
      ],
      "metadata": {
        "colab": {
          "base_uri": "https://localhost:8080/"
        },
        "id": "U4kHCVIKniAL",
        "outputId": "79010914-1004-4729-fb08-133a0f1c07f9"
      },
      "execution_count": 43,
      "outputs": [
        {
          "output_type": "stream",
          "name": "stdout",
          "text": [
            "4  outliers da coluna  V14  foram removidos do dataset\n",
            "8  outliers da coluna  V12  foram removidos do dataset\n",
            "15  outliers da coluna  V10  foram removidos do dataset\n",
            "0  outliers da coluna  V11  foram removidos do dataset\n",
            "0  outliers da coluna  V4  foram removidos do dataset\n"
          ]
        }
      ]
    },
    {
      "cell_type": "code",
      "source": [
        "fig, ax = plt.subplots(ncols=3, figsize=(12,6), tight_layout = True)\n",
        "sns.boxplot(x=\"Class\",y=\"V14\", data=balanced_df_train, ax=ax[0])\n",
        "sns.boxplot(x=\"Class\",y=\"V12\", data=balanced_df_train, ax=ax[1])\n",
        "sns.boxplot(x=\"Class\",y=\"V10\", data=balanced_df_train, ax=ax[2])\n",
        "\n",
        "plt.show()"
      ],
      "metadata": {
        "colab": {
          "base_uri": "https://localhost:8080/",
          "height": 435
        },
        "id": "tYw3iRzjohcU",
        "outputId": "7d477224-f426-4b3b-ceb7-86a2888d7029"
      },
      "execution_count": 42,
      "outputs": [
        {
          "output_type": "display_data",
          "data": {
            "text/plain": [
              "<Figure size 864x432 with 3 Axes>"
            ],
            "image/png": "[encoded data removed]"
          },
          "metadata": {}
        }
      ]
    },
    {
      "cell_type": "code",
      "source": [
        "plt.figure(figsize=(4,6), tight_layout = True)\n",
        "sns.boxplot(x=\"Class\",y=\"V11\", data=balanced_df_train)\n",
        "plt.show()"
      ],
      "metadata": {
        "colab": {
          "base_uri": "https://localhost:8080/",
          "height": 435
        },
        "id": "VI_HGKJwpoJY",
        "outputId": "1000fdb9-cb8d-43a7-e99a-faaa873db55f"
      },
      "execution_count": 44,
      "outputs": [
        {
          "output_type": "display_data",
          "data": {
            "text/plain": [
              "<Figure size 288x432 with 1 Axes>"
            ],
            "image/png": "[encoded data removed]"
          },
          "metadata": {}
        }
      ]
    },
    {
      "cell_type": "markdown",
      "source": [
        "Todos os outliers foram tratados. Vamos prosseguir com a modelagem.\n",
        "\n",
        "Modelagem após subamostragem\n",
        "Os seguintes modelos serão testados neste estudo de caso:\n",
        "\n",
        "- Classificador de regressão logística\n",
        "- Classificador KNN\n",
        "- Classificador SV\n",
        "- Classificador de Floresta Aleatória\n",
        "- Classificador XGB\n",
        "\n",
        "Para cada algoritmo, faremos o ajuste de hiperparâmetros usando GridSearchCV para obter os melhores parâmetros e a melhor pontuação de CV. Em seguida, aplicaremos cada melhor modelo novamente para obter a pontuação do treinamento.\n",
        "Alta pontuação de treinamento e baixa pontuação CV ==> Overfitting ao conjunto de treinamento Baixa pontuação de treinamento e baixa pontuação CV ==> Underfitting Ambas as pontuações altas ==> Um bom modelo generalizado"
      ],
      "metadata": {
        "id": "7_b5fbf9qCIs"
      }
    },
    {
      "cell_type": "code",
      "source": [
        "y_balanced = balanced_df_train.Class\n",
        "X_balanced = balanced_df_train.loc[:, balanced_df_train.columns != 'Class']"
      ],
      "metadata": {
        "id": "IVSWmPDQp-QH"
      },
      "execution_count": 46,
      "outputs": []
    },
    {
      "cell_type": "markdown",
      "source": [
        "Regressão Logistica"
      ],
      "metadata": {
        "id": "T1pZECm4qmwF"
      }
    },
    {
      "cell_type": "code",
      "source": [
        "param_grid = {'C': [0.1,0.5,1,10], 'max_iter' : [500, 750], 'tol':[0.00001,0.0001, 0.001]}\n",
        "lr_grid = GridSearchCV(LogisticRegression(solver = 'liblinear'),param_grid, cv=5)\n",
        "lr_grid.fit(X_balanced, y_balanced)\n",
        "print(lr_grid.best_score_)    \n",
        "print(lr_grid.best_params_)\n",
        "print(lr_grid.best_estimator_)"
      ],
      "metadata": {
        "colab": {
          "base_uri": "https://localhost:8080/"
        },
        "id": "sh5g_5Lepom-",
        "outputId": "6f5e4636-184f-4a2f-f989-86ba4ad0d62d"
      },
      "execution_count": 47,
      "outputs": [
        {
          "output_type": "stream",
          "name": "stdout",
          "text": [
            "0.9325664908540006\n",
            "{'C': 1, 'max_iter': 500, 'tol': 1e-05}\n",
            "LogisticRegression(C=1, max_iter=500, solver='liblinear', tol=1e-05)\n"
          ]
        }
      ]
    },
    {
      "cell_type": "markdown",
      "source": [
        "Regressão logística - Ajustando modelo"
      ],
      "metadata": {
        "id": "SqArSLC6q3vS"
      }
    },
    {
      "cell_type": "code",
      "source": [
        "lr_model = LogisticRegression(C=0.5, max_iter=500, solver='liblinear', tol=1e-05)\n",
        "lr_model.fit(X_balanced, y_balanced)\n",
        "lr_yhat = lr_model.predict(X_balanced)\n",
        "print(classification_report(y_balanced, lr_yhat))"
      ],
      "metadata": {
        "colab": {
          "base_uri": "https://localhost:8080/"
        },
        "id": "xLgrLI2rquMd",
        "outputId": "1d0969ea-e685-493f-9419-94977db6c1cf"
      },
      "execution_count": 48,
      "outputs": [
        {
          "output_type": "stream",
          "name": "stdout",
          "text": [
            "              precision    recall  f1-score   support\n",
            "\n",
            "           0       0.93      0.98      0.96       380\n",
            "           1       0.97      0.91      0.94       287\n",
            "\n",
            "    accuracy                           0.95       667\n",
            "   macro avg       0.95      0.94      0.95       667\n",
            "weighted avg       0.95      0.95      0.95       667\n",
            "\n"
          ]
        }
      ]
    },
    {
      "cell_type": "markdown",
      "source": [
        "KNN Classifier"
      ],
      "metadata": {
        "id": "9Y5eTG2ErEs6"
      }
    },
    {
      "cell_type": "code",
      "source": [
        "param_grid = {\"n_neighbors\": list(range(2,5,1)), 'algorithm': ['auto', 'ball_tree', 'kd_tree', 'brute']}\n",
        "knn_grid = GridSearchCV(KNeighborsClassifier(), param_grid, cv=5)\n",
        "knn_grid.fit(X_balanced, y_balanced)\n",
        "\n",
        "print(knn_grid.best_score_)    \n",
        "print(knn_grid.best_params_)\n",
        "print(knn_grid.best_estimator_)"
      ],
      "metadata": {
        "colab": {
          "base_uri": "https://localhost:8080/"
        },
        "id": "CWu9g4xuq72A",
        "outputId": "ee489792-5138-4054-a697-bd9e48db7281"
      },
      "execution_count": 49,
      "outputs": [
        {
          "output_type": "stream",
          "name": "stdout",
          "text": [
            "0.9280776568286389\n",
            "{'algorithm': 'auto', 'n_neighbors': 2}\n",
            "KNeighborsClassifier(n_neighbors=2)\n"
          ]
        }
      ]
    },
    {
      "cell_type": "markdown",
      "source": [
        "KNN - Fit best model"
      ],
      "metadata": {
        "id": "HrHA0YGmrMdY"
      }
    },
    {
      "cell_type": "code",
      "source": [
        "knn_model = KNeighborsClassifier(n_neighbors=3)\n",
        "knn_model.fit(X_balanced, y_balanced)\n",
        "knn_yhat = knn_model.predict(X_balanced)\n",
        "print(classification_report(y_balanced, knn_yhat))"
      ],
      "metadata": {
        "colab": {
          "base_uri": "https://localhost:8080/"
        },
        "id": "aQXE6aeIrIHN",
        "outputId": "19b47963-ad6e-4e1b-fb2a-96c87529c731"
      },
      "execution_count": 50,
      "outputs": [
        {
          "output_type": "stream",
          "name": "stdout",
          "text": [
            "              precision    recall  f1-score   support\n",
            "\n",
            "           0       0.94      0.99      0.96       380\n",
            "           1       0.98      0.91      0.95       287\n",
            "\n",
            "    accuracy                           0.96       667\n",
            "   macro avg       0.96      0.95      0.95       667\n",
            "weighted avg       0.96      0.96      0.95       667\n",
            "\n"
          ]
        }
      ]
    },
    {
      "cell_type": "markdown",
      "source": [
        "SVM Classifier"
      ],
      "metadata": {
        "id": "zc69n29grS1Z"
      }
    },
    {
      "cell_type": "code",
      "source": [
        "param_grid = {'C': [0.5, 0.7, 0.9, 1], 'kernel': ['rbf', 'poly', 'sigmoid', 'linear']}\n",
        "svc_grid = GridSearchCV(SVC(), param_grid, cv=5)\n",
        "svc_grid.fit(X_balanced, y_balanced)\n",
        "\n",
        "print(svc_grid.best_score_)    \n",
        "print(svc_grid.best_params_)\n",
        "print(svc_grid.best_estimator_)"
      ],
      "metadata": {
        "colab": {
          "base_uri": "https://localhost:8080/"
        },
        "id": "Ida6m7hprPeF",
        "outputId": "0e140ac4-4b1f-4670-866d-467b1f3e30c1"
      },
      "execution_count": 51,
      "outputs": [
        {
          "output_type": "stream",
          "name": "stdout",
          "text": [
            "0.9310851756256312\n",
            "{'C': 0.7, 'kernel': 'linear'}\n",
            "SVC(C=0.7, kernel='linear')\n"
          ]
        }
      ]
    },
    {
      "cell_type": "markdown",
      "source": [
        "SVC - Fit best model"
      ],
      "metadata": {
        "id": "32ACOppfrY2N"
      }
    },
    {
      "cell_type": "code",
      "source": [
        "svc_model = SVC(C=0.5, kernel='linear')\n",
        "svc_model.fit(X_balanced, y_balanced)\n",
        "svc_yhat = svc_model.predict(X_balanced)\n",
        "print(classification_report(y_balanced, svc_yhat))"
      ],
      "metadata": {
        "colab": {
          "base_uri": "https://localhost:8080/"
        },
        "id": "EJQ_if6HrVXW",
        "outputId": "4e9b416b-8297-4a43-9abc-58b61ff51225"
      },
      "execution_count": 52,
      "outputs": [
        {
          "output_type": "stream",
          "name": "stdout",
          "text": [
            "              precision    recall  f1-score   support\n",
            "\n",
            "           0       0.93      0.97      0.95       380\n",
            "           1       0.96      0.90      0.93       287\n",
            "\n",
            "    accuracy                           0.94       667\n",
            "   macro avg       0.95      0.94      0.94       667\n",
            "weighted avg       0.94      0.94      0.94       667\n",
            "\n"
          ]
        }
      ]
    },
    {
      "cell_type": "markdown",
      "source": [
        "Random Forest Classifier"
      ],
      "metadata": {
        "id": "yRC8rLMwriZy"
      }
    },
    {
      "cell_type": "code",
      "source": [
        "param_grid = {'max_depth': [5, 6, 7, 8], 'max_features': [4,5,6,7,8],'n_estimators':[100, 250, 500],'min_samples_split': [4, 5, 6, 7]}\n",
        "rf_grid = GridSearchCV(RandomForestClassifier(),param_grid, cv=5)\n",
        "rf_grid.fit(X_balanced, y_balanced)\n",
        "print(rf_grid.best_score_)\n",
        "print(rf_grid.best_params_)\n",
        "print(rf_grid.best_estimator_)"
      ],
      "metadata": {
        "colab": {
          "base_uri": "https://localhost:8080/"
        },
        "id": "iikBhzs_re8g",
        "outputId": "9baf9858-5cb1-4f7d-e466-88a692a33767"
      },
      "execution_count": 53,
      "outputs": [
        {
          "output_type": "stream",
          "name": "stdout",
          "text": [
            "0.9385478621927955\n",
            "{'max_depth': 8, 'max_features': 7, 'min_samples_split': 4, 'n_estimators': 100}\n",
            "RandomForestClassifier(max_depth=8, max_features=7, min_samples_split=4)\n"
          ]
        }
      ]
    },
    {
      "cell_type": "markdown",
      "source": [
        "RF - Fit best model"
      ],
      "metadata": {
        "id": "Wus9zO2uroLD"
      }
    },
    {
      "cell_type": "code",
      "source": [
        "rf_model = RandomForestClassifier(max_depth=6, max_features=5, min_samples_split=7, n_estimators=100)\n",
        "rf_model.fit(X_balanced, y_balanced)\n",
        "rf_yhat = rf_model.predict(X_balanced)\n",
        "print(classification_report(y_balanced, rf_yhat))"
      ],
      "metadata": {
        "colab": {
          "base_uri": "https://localhost:8080/"
        },
        "id": "IGxZNWJIrkxU",
        "outputId": "00d4eb43-3d29-4292-8c60-a23fd3166f33"
      },
      "execution_count": 54,
      "outputs": [
        {
          "output_type": "stream",
          "name": "stdout",
          "text": [
            "              precision    recall  f1-score   support\n",
            "\n",
            "           0       0.94      1.00      0.97       380\n",
            "           1       1.00      0.91      0.95       287\n",
            "\n",
            "    accuracy                           0.96       667\n",
            "   macro avg       0.97      0.95      0.96       667\n",
            "weighted avg       0.96      0.96      0.96       667\n",
            "\n"
          ]
        }
      ]
    },
    {
      "cell_type": "markdown",
      "source": [
        "XGB Classifier"
      ],
      "metadata": {
        "id": "MkXwwyJuruJC"
      }
    },
    {
      "cell_type": "code",
      "source": [
        "param_grid = {'max_depth': [5,6,7,8], 'gamma': [0.01,0.001], 'n_estimators':[500, 750], 'min_child_weight':[1,5,10]}\n",
        "xgb_grid = GridSearchCV(XGBClassifier(),param_grid, cv=5)\n",
        "xgb_grid.fit(X_balanced, y_balanced)\n",
        "print(xgb_grid.best_score_)\n",
        "print(xgb_grid.best_params_)\n",
        "print(xgb_grid.best_estimator_)"
      ],
      "metadata": {
        "colab": {
          "base_uri": "https://localhost:8080/"
        },
        "id": "c3t7kgh-ru7t",
        "outputId": "f2f49aad-ba6e-4581-9243-010a36b70036"
      },
      "execution_count": 55,
      "outputs": [
        {
          "output_type": "stream",
          "name": "stdout",
          "text": [
            "0.9355627875659298\n",
            "{'gamma': 0.001, 'max_depth': 8, 'min_child_weight': 1, 'n_estimators': 500}\n",
            "XGBClassifier(gamma=0.001, max_depth=8, n_estimators=500)\n"
          ]
        }
      ]
    },
    {
      "cell_type": "markdown",
      "source": [
        "XGB - Fit best model"
      ],
      "metadata": {
        "id": "vul5Zethrz_K"
      }
    },
    {
      "cell_type": "code",
      "source": [
        "xgb_model = XGBClassifier(max_depth=5, gamma=0.001, min_child_weight=1, n_estimators=500)\n",
        "xgb_model.fit(X_balanced, y_balanced)\n",
        "xgb_yhat = xgb_model.predict(X_balanced)\n",
        "print(classification_report(y_balanced, xgb_yhat))"
      ],
      "metadata": {
        "colab": {
          "base_uri": "https://localhost:8080/"
        },
        "id": "lYpHmQ8Ur0lI",
        "outputId": "d017cfc8-c452-4c6a-c9ea-501b97419b16"
      },
      "execution_count": 56,
      "outputs": [
        {
          "output_type": "stream",
          "name": "stdout",
          "text": [
            "              precision    recall  f1-score   support\n",
            "\n",
            "           0       1.00      1.00      1.00       380\n",
            "           1       1.00      1.00      1.00       287\n",
            "\n",
            "    accuracy                           1.00       667\n",
            "   macro avg       1.00      1.00      1.00       667\n",
            "weighted avg       1.00      1.00      1.00       667\n",
            "\n"
          ]
        }
      ]
    },
    {
      "cell_type": "markdown",
      "source": [
        "Selecionando o melhor\n",
        "De todos os modelos e suas pontuações, o Random Forest Classifier deu os melhores resultados em termos de pontuação de treinamento e CV, tendo em mente a generalização do modelo para evitar overfitting e ainda ser capaz de prever com precisão em dados não vistos.\n",
        "Ajustando o melhor modelo em dados de teste:"
      ],
      "metadata": {
        "id": "FmgIXdxOsQOH"
      }
    },
    {
      "cell_type": "code",
      "source": [
        "rf_test_yhat = rf_model.predict(X_test)\n",
        "print(classification_report(y_test, rf_test_yhat))"
      ],
      "metadata": {
        "colab": {
          "base_uri": "https://localhost:8080/"
        },
        "id": "beKwcRzOsZ-u",
        "outputId": "760bb75d-863c-444d-e213-66b1037a8f9f"
      },
      "execution_count": 57,
      "outputs": [
        {
          "output_type": "stream",
          "name": "stdout",
          "text": [
            "              precision    recall  f1-score   support\n",
            "\n",
            "           0       1.00      0.98      0.99     55040\n",
            "           1       0.06      0.84      0.12        93\n",
            "\n",
            "    accuracy                           0.98     55133\n",
            "   macro avg       0.53      0.91      0.55     55133\n",
            "weighted avg       1.00      0.98      0.99     55133\n",
            "\n"
          ]
        }
      ]
    },
    {
      "cell_type": "markdown",
      "source": [
        "Como podemos ver nas pontuações dos testes acima, o método de subamostragem neste cenário não teve um bom desempenho para o modelo treinar adequadamente nos casos de fraude. O modelo ainda está prevendo 0 ou Não fraude para muitos dos casos de Fraude.\n",
        "De todos os casos reais de fraude (110), o modelo conseguiu prever 85% deles corretamente (como fraude).\n",
        "De todas as fraudes previstas, apenas 10% foram realmente fraudes. Isso significa que esse modelo deixou muitos clientes indignados, acusando-os de fraude, por engano, é claro.\n"
      ],
      "metadata": {
        "id": "bxZa1cv3s7e8"
      }
    },
    {
      "cell_type": "markdown",
      "source": [
        "Sobreamostragem (SMOTE)\n",
        "Tentaremos aumentar a amostragem da minoria usando a Técnica de Sobreamostragem da Minoria Sintética. Depois disso, aplicaremos as mesmas etapas da subamostragem para obter o conjunto de dados final para modelagem e previsões."
      ],
      "metadata": {
        "id": "7bYWTpv4tGkC"
      }
    },
    {
      "cell_type": "code",
      "source": [
        "from imblearn.over_sampling import SMOTE"
      ],
      "metadata": {
        "id": "6980TdQgs8Tn"
      },
      "execution_count": 58,
      "outputs": []
    },
    {
      "cell_type": "code",
      "source": [
        "smote = SMOTE(sampling_strategy=\"minority\")\n",
        "X_sm, y_sm = smote.fit_resample(X_train, y_train)"
      ],
      "metadata": {
        "id": "g43pONDQtLh6"
      },
      "execution_count": 59,
      "outputs": []
    },
    {
      "cell_type": "code",
      "source": [
        "y_sm.value_counts()"
      ],
      "metadata": {
        "colab": {
          "base_uri": "https://localhost:8080/"
        },
        "id": "9jlWPaqctMxO",
        "outputId": "7e5601a7-66f6-484e-e276-a6692887f62d"
      },
      "execution_count": 60,
      "outputs": [
        {
          "output_type": "execute_result",
          "data": {
            "text/plain": [
              "0    220150\n",
              "1    220150\n",
              "Name: Class, dtype: int64"
            ]
          },
          "metadata": {},
          "execution_count": 60
        }
      ]
    },
    {
      "cell_type": "markdown",
      "source": [
        "A minoria foi superestimada para corresponder à maioria anterior."
      ],
      "metadata": {
        "id": "TLaAy1F-tVKc"
      }
    },
    {
      "cell_type": "markdown",
      "source": [
        "Verificando a correlação após o SMOTE"
      ],
      "metadata": {
        "id": "CVCcK36stUq7"
      }
    },
    {
      "cell_type": "code",
      "source": [
        "df_sm_train = pd.concat([X_sm, y_sm], axis=1)\n",
        "# df_sm_train.corr()[\"Class\"][:-1]"
      ],
      "metadata": {
        "id": "bzoD3GTFtMpI"
      },
      "execution_count": 61,
      "outputs": []
    },
    {
      "cell_type": "code",
      "source": [
        "df_sm_train.corr()[\"Class\"][:-1].to_frame().sort_values('Class', ascending=False)"
      ],
      "metadata": {
        "colab": {
          "base_uri": "https://localhost:8080/",
          "height": 959
        },
        "id": "WG-9K1vCtMeZ",
        "outputId": "ba27c330-2998-46c3-f9b6-15e15265be4b"
      },
      "execution_count": 62,
      "outputs": [
        {
          "output_type": "execute_result",
          "data": {
            "text/plain": [
              "           Class\n",
              "V4      0.704967\n",
              "V11     0.694578\n",
              "V2      0.488230\n",
              "V19     0.291483\n",
              "V20     0.205340\n",
              "V8      0.153100\n",
              "V21     0.139725\n",
              "V27     0.128886\n",
              "V28     0.114013\n",
              "V25     0.054415\n",
              "Amount  0.046583\n",
              "V26     0.038975\n",
              "V22     0.033026\n",
              "V15     0.007651\n",
              "V23    -0.010553\n",
              "V13    -0.057848\n",
              "V24    -0.100048\n",
              "V5     -0.374124\n",
              "V1     -0.408872\n",
              "V6     -0.452904\n",
              "V18    -0.461589\n",
              "V7     -0.472668\n",
              "V9     -0.552168\n",
              "V17    -0.555297\n",
              "V3     -0.559529\n",
              "V16    -0.590225\n",
              "V10    -0.636142\n",
              "V12    -0.681877\n",
              "V14    -0.753903"
            ],
            "text/html": [
              "\n",
              "  <div id=\"df-132639a9-1600-4606-ad50-f83ec5c3ca12\">\n",
              "    <div class=\"colab-df-container\">\n",
              "      <div>\n",
              "<style scoped>\n",
              "    .dataframe tbody tr th:only-of-type {\n",
              "        vertical-align: middle;\n",
              "    }\n",
              "\n",
              "    .dataframe tbody tr th {\n",
              "        vertical-align: top;\n",
              "    }\n",
              "\n",
              "    .dataframe thead th {\n",
              "        text-align: right;\n",
              "    }\n",
              "</style>\n",
              "<table border=\"1\" class=\"dataframe\">\n",
              "  <thead>\n",
              "    <tr style=\"text-align: right;\">\n",
              "      <th></th>\n",
              "      <th>Class</th>\n",
              "    </tr>\n",
              "  </thead>\n",
              "  <tbody>\n",
              "    <tr>\n",
              "      <th>V4</th>\n",
              "      <td>0.704967</td>\n",
              "    </tr>\n",
              "    <tr>\n",
              "      <th>V11</th>\n",
              "      <td>0.694578</td>\n",
              "    </tr>\n",
              "    <tr>\n",
              "      <th>V2</th>\n",
              "      <td>0.488230</td>\n",
              "    </tr>\n",
              "    <tr>\n",
              "      <th>V19</th>\n",
              "      <td>0.291483</td>\n",
              "    </tr>\n",
              "    <tr>\n",
              "      <th>V20</th>\n",
              "      <td>0.205340</td>\n",
              "    </tr>\n",
              "    <tr>\n",
              "      <th>V8</th>\n",
              "      <td>0.153100</td>\n",
              "    </tr>\n",
              "    <tr>\n",
              "      <th>V21</th>\n",
              "      <td>0.139725</td>\n",
              "    </tr>\n",
              "    <tr>\n",
              "      <th>V27</th>\n",
              "      <td>0.128886</td>\n",
              "    </tr>\n",
              "    <tr>\n",
              "      <th>V28</th>\n",
              "      <td>0.114013</td>\n",
              "    </tr>\n",
              "    <tr>\n",
              "      <th>V25</th>\n",
              "      <td>0.054415</td>\n",
              "    </tr>\n",
              "    <tr>\n",
              "      <th>Amount</th>\n",
              "      <td>0.046583</td>\n",
              "    </tr>\n",
              "    <tr>\n",
              "      <th>V26</th>\n",
              "      <td>0.038975</td>\n",
              "    </tr>\n",
              "    <tr>\n",
              "      <th>V22</th>\n",
              "      <td>0.033026</td>\n",
              "    </tr>\n",
              "    <tr>\n",
              "      <th>V15</th>\n",
              "      <td>0.007651</td>\n",
              "    </tr>\n",
              "    <tr>\n",
              "      <th>V23</th>\n",
              "      <td>-0.010553</td>\n",
              "    </tr>\n",
              "    <tr>\n",
              "      <th>V13</th>\n",
              "      <td>-0.057848</td>\n",
              "    </tr>\n",
              "    <tr>\n",
              "      <th>V24</th>\n",
              "      <td>-0.100048</td>\n",
              "    </tr>\n",
              "    <tr>\n",
              "      <th>V5</th>\n",
              "      <td>-0.374124</td>\n",
              "    </tr>\n",
              "    <tr>\n",
              "      <th>V1</th>\n",
              "      <td>-0.408872</td>\n",
              "    </tr>\n",
              "    <tr>\n",
              "      <th>V6</th>\n",
              "      <td>-0.452904</td>\n",
              "    </tr>\n",
              "    <tr>\n",
              "      <th>V18</th>\n",
              "      <td>-0.461589</td>\n",
              "    </tr>\n",
              "    <tr>\n",
              "      <th>V7</th>\n",
              "      <td>-0.472668</td>\n",
              "    </tr>\n",
              "    <tr>\n",
              "      <th>V9</th>\n",
              "      <td>-0.552168</td>\n",
              "    </tr>\n",
              "    <tr>\n",
              "      <th>V17</th>\n",
              "      <td>-0.555297</td>\n",
              "    </tr>\n",
              "    <tr>\n",
              "      <th>V3</th>\n",
              "      <td>-0.559529</td>\n",
              "    </tr>\n",
              "    <tr>\n",
              "      <th>V16</th>\n",
              "      <td>-0.590225</td>\n",
              "    </tr>\n",
              "    <tr>\n",
              "      <th>V10</th>\n",
              "      <td>-0.636142</td>\n",
              "    </tr>\n",
              "    <tr>\n",
              "      <th>V12</th>\n",
              "      <td>-0.681877</td>\n",
              "    </tr>\n",
              "    <tr>\n",
              "      <th>V14</th>\n",
              "      <td>-0.753903</td>\n",
              "    </tr>\n",
              "  </tbody>\n",
              "</table>\n",
              "</div>\n",
              "      <button class=\"colab-df-convert\" onclick=\"convertToInteractive('df-132639a9-1600-4606-ad50-f83ec5c3ca12')\"\n",
              "              title=\"Convert this dataframe to an interactive table.\"\n",
              "              style=\"display:none;\">\n",
              "        \n",
              "  <svg xmlns=\"http://www.w3.org/2000/svg\" height=\"24px\"viewBox=\"0 0 24 24\"\n",
              "       width=\"24px\">\n",
              "    <path d=\"M0 0h24v24H0V0z\" fill=\"none\"/>\n",
              "    <path d=\"M18.56 5.44l.94 2.06.94-2.06 2.06-.94-2.06-.94-.94-2.06-.94 2.06-2.06.94zm-11 1L8.5 8.5l.94-2.06 2.06-.94-2.06-.94L8.5 2.5l-.94 2.06-2.06.94zm10 10l.94 2.06.94-2.06 2.06-.94-2.06-.94-.94-2.06-.94 2.06-2.06.94z\"/><path d=\"M17.41 7.96l-1.37-1.37c-.4-.4-.92-.59-1.43-.59-.52 0-1.04.2-1.43.59L10.3 9.45l-7.72 7.72c-.78.78-.78 2.05 0 2.83L4 21.41c.39.39.9.59 1.41.59.51 0 1.02-.2 1.41-.59l7.78-7.78 2.81-2.81c.8-.78.8-2.07 0-2.86zM5.41 20L4 18.59l7.72-7.72 1.47 1.35L5.41 20z\"/>\n",
              "  </svg>\n",
              "      </button>\n",
              "      \n",
              "  <style>\n",
              "    .colab-df-container {\n",
              "      display:flex;\n",
              "      flex-wrap:wrap;\n",
              "      gap: 12px;\n",
              "    }\n",
              "\n",
              "    .colab-df-convert {\n",
              "      background-color: #E8F0FE;\n",
              "      border: none;\n",
              "      border-radius: 50%;\n",
              "      cursor: pointer;\n",
              "      display: none;\n",
              "      fill: #1967D2;\n",
              "      height: 32px;\n",
              "      padding: 0 0 0 0;\n",
              "      width: 32px;\n",
              "    }\n",
              "\n",
              "    .colab-df-convert:hover {\n",
              "      background-color: #E2EBFA;\n",
              "      box-shadow: 0px 1px 2px rgba(60, 64, 67, 0.3), 0px 1px 3px 1px rgba(60, 64, 67, 0.15);\n",
              "      fill: #174EA6;\n",
              "    }\n",
              "\n",
              "    [theme=dark] .colab-df-convert {\n",
              "      background-color: #3B4455;\n",
              "      fill: #D2E3FC;\n",
              "    }\n",
              "\n",
              "    [theme=dark] .colab-df-convert:hover {\n",
              "      background-color: #434B5C;\n",
              "      box-shadow: 0px 1px 3px 1px rgba(0, 0, 0, 0.15);\n",
              "      filter: drop-shadow(0px 1px 2px rgba(0, 0, 0, 0.3));\n",
              "      fill: #FFFFFF;\n",
              "    }\n",
              "  </style>\n",
              "\n",
              "      <script>\n",
              "        const buttonEl =\n",
              "          document.querySelector('#df-132639a9-1600-4606-ad50-f83ec5c3ca12 button.colab-df-convert');\n",
              "        buttonEl.style.display =\n",
              "          google.colab.kernel.accessAllowed ? 'block' : 'none';\n",
              "\n",
              "        async function convertToInteractive(key) {\n",
              "          const element = document.querySelector('#df-132639a9-1600-4606-ad50-f83ec5c3ca12');\n",
              "          const dataTable =\n",
              "            await google.colab.kernel.invokeFunction('convertToInteractive',\n",
              "                                                     [key], {});\n",
              "          if (!dataTable) return;\n",
              "\n",
              "          const docLinkHtml = 'Like what you see? Visit the ' +\n",
              "            '<a target=\"_blank\" href=https://colab.research.google.com/notebooks/data_table.ipynb>data table notebook</a>'\n",
              "            + ' to learn more about interactive tables.';\n",
              "          element.innerHTML = '';\n",
              "          dataTable['output_type'] = 'display_data';\n",
              "          await google.colab.output.renderOutput(dataTable, element);\n",
              "          const docLink = document.createElement('div');\n",
              "          docLink.innerHTML = docLinkHtml;\n",
              "          element.appendChild(docLink);\n",
              "        }\n",
              "      </script>\n",
              "    </div>\n",
              "  </div>\n",
              "  "
            ]
          },
          "metadata": {},
          "execution_count": 62
        }
      ]
    },
    {
      "cell_type": "code",
      "source": [
        "out_features = [\"V14\", \"V12\", \"V10\"]\n",
        "for feature in out_features:\n",
        "    Q1 = df_sm_train[feature].quantile(0.25)\n",
        "    Q3 = df_sm_train[feature].quantile(0.75)\n",
        "    IQR = Q3-Q1\n",
        "    top = Q3 + 1.5*IQR # Not necessary for negatively correlated features\n",
        "    bottom = Q1 - 1.5*IQR\n",
        "\n",
        "    index = df_sm_train[(df_sm_train[feature] < bottom)].index\n",
        "    print(len(index), \" number of\", feature, \" outliers removed from the dataset\")\n",
        "    df_sm_train = df_sm_train.drop(index)"
      ],
      "metadata": {
        "colab": {
          "base_uri": "https://localhost:8080/"
        },
        "id": "zvMxDvX1tMKp",
        "outputId": "9cab617b-841f-4e6e-ad87-ff274262fd0b"
      },
      "execution_count": 63,
      "outputs": [
        {
          "output_type": "stream",
          "name": "stdout",
          "text": [
            "4262  number of V14  outliers removed from the dataset\n",
            "23919  number of V12  outliers removed from the dataset\n",
            "9762  number of V10  outliers removed from the dataset\n"
          ]
        }
      ]
    },
    {
      "cell_type": "markdown",
      "source": [
        "Modelagem após SMOTE"
      ],
      "metadata": {
        "id": "YCDbv7AxwQ9J"
      }
    },
    {
      "cell_type": "code",
      "source": [
        "y_sm_new = df_sm_train.Class\n",
        "X_sm_new = df_sm_train.loc[:, df_sm_train.columns != 'Class']"
      ],
      "metadata": {
        "id": "0Yj3ttJVwEkI"
      },
      "execution_count": 64,
      "outputs": []
    },
    {
      "cell_type": "code",
      "source": [
        "rf_sm_model = RandomForestClassifier(max_depth=6, max_features=5, min_samples_split=7, n_estimators=100)\n",
        "rf_sm_model.fit(X_sm_new, y_sm_new)\n",
        "rf_sm_yhat = rf_sm_model.predict(X_sm_new)\n",
        "print(classification_report(y_sm_new, rf_sm_yhat))"
      ],
      "metadata": {
        "colab": {
          "base_uri": "https://localhost:8080/"
        },
        "id": "7QMSdStIwViy",
        "outputId": "a760e796-692b-4acf-b6ac-d6b723fefa3f"
      },
      "execution_count": 65,
      "outputs": [
        {
          "output_type": "stream",
          "name": "stdout",
          "text": [
            "              precision    recall  f1-score   support\n",
            "\n",
            "           0       0.93      1.00      0.96    220133\n",
            "           1       0.99      0.90      0.95    182224\n",
            "\n",
            "    accuracy                           0.95    402357\n",
            "   macro avg       0.96      0.95      0.95    402357\n",
            "weighted avg       0.96      0.95      0.95    402357\n",
            "\n"
          ]
        }
      ]
    },
    {
      "cell_type": "markdown",
      "source": [
        "Agora vamos prever usando este modelo"
      ],
      "metadata": {
        "id": "bgLG1OEPwdli"
      }
    },
    {
      "cell_type": "code",
      "source": [
        "rf_sm_test_yhat = rf_sm_model.predict(X_test)\n",
        "print(classification_report(y_test, rf_sm_test_yhat))"
      ],
      "metadata": {
        "colab": {
          "base_uri": "https://localhost:8080/"
        },
        "id": "dGEdmYFawX6a",
        "outputId": "ce7342ae-a9e8-4069-f2c5-7ae94d37a43d"
      },
      "execution_count": 66,
      "outputs": [
        {
          "output_type": "stream",
          "name": "stdout",
          "text": [
            "              precision    recall  f1-score   support\n",
            "\n",
            "           0       1.00      1.00      1.00     55040\n",
            "           1       0.22      0.83      0.35        93\n",
            "\n",
            "    accuracy                           0.99     55133\n",
            "   macro avg       0.61      0.91      0.67     55133\n",
            "weighted avg       1.00      0.99      1.00     55133\n",
            "\n"
          ]
        }
      ]
    },
    {
      "cell_type": "markdown",
      "source": [
        "Conclusão: "
      ],
      "metadata": {
        "id": "hJixJjxew2WI"
      }
    },
    {
      "cell_type": "code",
      "source": [],
      "metadata": {
        "id": "8UUaEhg4wjez"
      },
      "execution_count": null,
      "outputs": []
    }
  ]
}
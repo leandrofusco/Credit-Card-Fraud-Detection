{
 "cells": [
  {
   "cell_type": "code",
   "execution_count": 1,
   "metadata": {
    "id": "vU8wFYR-T7YS"
   },
   "outputs": [],
   "source": [
    "# For data wrangling \n",
    "import numpy as np\n",
    "import pandas as pd\n",
    "\n",
    "# For visualization\n",
    "import matplotlib.pyplot as plt\n",
    "%matplotlib inline\n",
    "import seaborn as sns\n",
    "pd.options.display.max_rows = None #to show all rows\n",
    "pd.options.display.max_columns = None #to show all columns\n",
    "\n",
    "# For encoding categorical data\n",
    "from sklearn.preprocessing import OneHotEncoder\n",
    "\n",
    "# For scaling\n",
    "from sklearn.preprocessing import RobustScaler\n",
    "\n",
    "# For splitting data\n",
    "from sklearn.model_selection import train_test_split\n",
    "\n",
    "# For modelling\n",
    "from sklearn.model_selection import GridSearchCV\n",
    "from sklearn.tree import DecisionTreeClassifier\n",
    "from sklearn.svm import SVC\n",
    "from sklearn.neighbors import KNeighborsClassifier\n",
    "from sklearn.linear_model import LogisticRegression\n",
    "from sklearn.ensemble import RandomForestClassifier\n",
    "from xgboost import XGBClassifier\n",
    "from sklearn.preprocessing import PolynomialFeatures\n",
    "\n",
    "from imblearn.over_sampling import SMOTE # inbalancing\n",
    "\n",
    "# For evaluation\n",
    "from sklearn.metrics import confusion_matrix, f1_score, classification_report, roc_auc_score, roc_curve"
   ]
  },
  {
   "cell_type": "code",
   "execution_count": 2,
   "metadata": {},
   "outputs": [],
   "source": [
    "from gc import freeze\n",
    "\n",
    "\n",
    "# !pip freeze > requirements.txt"
   ]
  },
  {
   "cell_type": "code",
   "execution_count": 3,
   "metadata": {
    "id": "eaklMaONT7EL"
   },
   "outputs": [],
   "source": [
    "df = pd.read_csv('creditcard.csv')"
   ]
  },
  {
   "cell_type": "code",
   "execution_count": 4,
   "metadata": {
    "id": "ndVTNtt0WCpB"
   },
   "outputs": [
    {
     "data": {
      "text/plain": [
       "Time      0\n",
       "V1        0\n",
       "V2        0\n",
       "V3        0\n",
       "V4        0\n",
       "V5        0\n",
       "V6        0\n",
       "V7        0\n",
       "V8        0\n",
       "V9        0\n",
       "V10       0\n",
       "V11       0\n",
       "V12       0\n",
       "V13       0\n",
       "V14       0\n",
       "V15       0\n",
       "V16       0\n",
       "V17       0\n",
       "V18       0\n",
       "V19       0\n",
       "V20       0\n",
       "V21       0\n",
       "V22       0\n",
       "V23       0\n",
       "V24       0\n",
       "V25       0\n",
       "V26       0\n",
       "V27       0\n",
       "V28       0\n",
       "Amount    0\n",
       "Class     0\n",
       "dtype: int64"
      ]
     },
     "execution_count": 4,
     "metadata": {},
     "output_type": "execute_result"
    }
   ],
   "source": [
    "# verificando valores Nan\n",
    "# apenas 1 linha de Nan\n",
    "df.isna().sum()"
   ]
  },
  {
   "cell_type": "code",
   "execution_count": 5,
   "metadata": {
    "id": "5OE3yqtzWdYJ"
   },
   "outputs": [],
   "source": [
    "df.dropna(inplace=True)"
   ]
  },
  {
   "cell_type": "code",
   "execution_count": 6,
   "metadata": {
    "id": "kd0dommqWIZX"
   },
   "outputs": [
    {
     "data": {
      "text/plain": [
       "Time      float64\n",
       "V1        float64\n",
       "V2        float64\n",
       "V3        float64\n",
       "V4        float64\n",
       "V5        float64\n",
       "V6        float64\n",
       "V7        float64\n",
       "V8        float64\n",
       "V9        float64\n",
       "V10       float64\n",
       "V11       float64\n",
       "V12       float64\n",
       "V13       float64\n",
       "V14       float64\n",
       "V15       float64\n",
       "V16       float64\n",
       "V17       float64\n",
       "V18       float64\n",
       "V19       float64\n",
       "V20       float64\n",
       "V21       float64\n",
       "V22       float64\n",
       "V23       float64\n",
       "V24       float64\n",
       "V25       float64\n",
       "V26       float64\n",
       "V27       float64\n",
       "V28       float64\n",
       "Amount    float64\n",
       "Class       int64\n",
       "dtype: object"
      ]
     },
     "execution_count": 6,
     "metadata": {},
     "output_type": "execute_result"
    }
   ],
   "source": [
    "df.dtypes"
   ]
  },
  {
   "cell_type": "code",
   "execution_count": 7,
   "metadata": {
    "id": "3PnDKELvW5SP"
   },
   "outputs": [],
   "source": [
    "# Aesthetics\n",
    "sns.set_style('darkgrid')\n",
    "sns.set_palette('Set2')\n",
    "mpl_color = sns.color_palette('Set2')\n",
    "\n",
    "# Plot features universal settings\n",
    "plt.rc('axes', titlesize=18)\n",
    "plt.rc('axes', labelsize=14)\n",
    "plt.rc('xtick', labelsize=13)\n",
    "plt.rc('ytick', labelsize=13)\n",
    "plt.rc('legend', fontsize=13)\n",
    "plt.rc('font', size=13)"
   ]
  },
  {
   "cell_type": "code",
   "execution_count": 8,
   "metadata": {
    "colab": {
     "base_uri": "https://localhost:8080/"
    },
    "id": "PhPHBq1sW5sX",
    "outputId": "f9d3b7f0-0bdb-401d-dc26-2325d6661885"
   },
   "outputs": [
    {
     "data": {
      "text/plain": [
       "(284807, 31)"
      ]
     },
     "execution_count": 8,
     "metadata": {},
     "output_type": "execute_result"
    }
   ],
   "source": [
    "df.shape"
   ]
  },
  {
   "cell_type": "code",
   "execution_count": 9,
   "metadata": {
    "colab": {
     "base_uri": "https://localhost:8080/"
    },
    "id": "u21n5Ya_WqGP",
    "outputId": "73a8055c-c378-417a-c652-3f96739230e3"
   },
   "outputs": [
    {
     "name": "stdout",
     "output_type": "stream",
     "text": [
      "         V1        V2        V3        V4        V5        V6        V7  \\\n",
      "0 -1.359807 -0.072781  2.536347  1.378155 -0.338321  0.462388  0.239599   \n",
      "1  1.191857  0.266151  0.166480  0.448154  0.060018 -0.082361 -0.078803   \n",
      "2 -1.358354 -1.340163  1.773209  0.379780 -0.503198  1.800499  0.791461   \n",
      "3 -0.966272 -0.185226  1.792993 -0.863291 -0.010309  1.247203  0.237609   \n",
      "4 -1.158233  0.877737  1.548718  0.403034 -0.407193  0.095921  0.592941   \n",
      "\n",
      "         V8        V9       V10       V11       V12       V13       V14  \\\n",
      "0  0.098698  0.363787  0.090794 -0.551600 -0.617801 -0.991390 -0.311169   \n",
      "1  0.085102 -0.255425 -0.166974  1.612727  1.065235  0.489095 -0.143772   \n",
      "2  0.247676 -1.514654  0.207643  0.624501  0.066084  0.717293 -0.165946   \n",
      "3  0.377436 -1.387024 -0.054952 -0.226487  0.178228  0.507757 -0.287924   \n",
      "4 -0.270533  0.817739  0.753074 -0.822843  0.538196  1.345852 -1.119670   \n",
      "\n",
      "        V15       V16       V17       V18       V19       V20       V21  \\\n",
      "0  1.468177 -0.470401  0.207971  0.025791  0.403993  0.251412 -0.018307   \n",
      "1  0.635558  0.463917 -0.114805 -0.183361 -0.145783 -0.069083 -0.225775   \n",
      "2  2.345865 -2.890083  1.109969 -0.121359 -2.261857  0.524980  0.247998   \n",
      "3 -0.631418 -1.059647 -0.684093  1.965775 -1.232622 -0.208038 -0.108300   \n",
      "4  0.175121 -0.451449 -0.237033 -0.038195  0.803487  0.408542 -0.009431   \n",
      "\n",
      "        V22       V23       V24       V25       V26       V27       V28  \\\n",
      "0  0.277838 -0.110474  0.066928  0.128539 -0.189115  0.133558 -0.021053   \n",
      "1 -0.638672  0.101288 -0.339846  0.167170  0.125895 -0.008983  0.014724   \n",
      "2  0.771679  0.909412 -0.689281 -0.327642 -0.139097 -0.055353 -0.059752   \n",
      "3  0.005274 -0.190321 -1.175575  0.647376 -0.221929  0.062723  0.061458   \n",
      "4  0.798278 -0.137458  0.141267 -0.206010  0.502292  0.219422  0.215153   \n",
      "\n",
      "   Amount  Class  \n",
      "0  149.62      0  \n",
      "1    2.69      0  \n",
      "2  378.66      0  \n",
      "3  123.50      0  \n",
      "4   69.99      0  \n"
     ]
    }
   ],
   "source": [
    "df1 = df.copy() # Just in case\n",
    "df.drop('Time', axis = 1, inplace = True)\n",
    "print(df.head())"
   ]
  },
  {
   "cell_type": "code",
   "execution_count": 10,
   "metadata": {
    "colab": {
     "base_uri": "https://localhost:8080/"
    },
    "id": "IDQto_bNZuML",
    "outputId": "2abfd1e8-1e35-4b22-aa20-69a2328d65ad"
   },
   "outputs": [
    {
     "name": "stdout",
     "output_type": "stream",
     "text": [
      "Búmero de linhas duplicadas total: 9144\n",
      "Búmero de linhas duplicadas na coluna Fraud cases: 19\n",
      "Búmero de linhas duplicadas na coluna No Fraud cases: 9125\n"
     ]
    }
   ],
   "source": [
    "dup = df[df.duplicated()]\n",
    "print(\"Búmero de linhas duplicadas total:\", len(dup))\n",
    "print(\"Búmero de linhas duplicadas na coluna Fraud cases:\", len(dup[dup[\"Class\"]==1]))\n",
    "print(\"Búmero de linhas duplicadas na coluna No Fraud cases:\", len(dup[dup[\"Class\"]==0]))"
   ]
  },
  {
   "cell_type": "code",
   "execution_count": 11,
   "metadata": {
    "colab": {
     "base_uri": "https://localhost:8080/"
    },
    "id": "Ll9B7C2VZteI",
    "outputId": "04df0d6c-fac6-4f80-9c3a-e6c517d7aeb0"
   },
   "outputs": [
    {
     "name": "stdout",
     "output_type": "stream",
     "text": [
      "9144 linhas duplicadas removidas\n",
      "Total de linhas que sobrou 275663\n"
     ]
    }
   ],
   "source": [
    "total = len(df)\n",
    "df.drop_duplicates(inplace=True)\n",
    "print(total - len(df), \"linhas duplicadas removidas\")\n",
    "print(\"Total de linhas que sobrou\", len(df))"
   ]
  },
  {
   "cell_type": "code",
   "execution_count": 12,
   "metadata": {
    "colab": {
     "base_uri": "https://localhost:8080/",
     "height": 539
    },
    "id": "UGwUC7n8aCRl",
    "outputId": "a8523273-8149-468c-e68e-a151a11ce58c"
   },
   "outputs": [
    {
     "name": "stdout",
     "output_type": "stream",
     "text": [
      "Total de casos :275663  casos de fraude: 473\n",
      "Total de casos :275663  casos de não fraude: 275190\n",
      "Percentage of fraudes  : 0.172\n"
     ]
    },
    {
     "data": {
      "image/png": "[encoded data removed]",
      "text/plain": [
       "<Figure size 576x576 with 1 Axes>"
      ]
     },
     "metadata": {},
     "output_type": "display_data"
    }
   ],
   "source": [
    "cases = len(df)\n",
    "nonfraud_count = len(df[df.Class == 0])\n",
    "fraud_count = len(df[df.Class == 1])\n",
    "fraud_percentage = round(fraud_count/cases*100, 3)\n",
    "print(\"Total de casos :{}  casos de fraude:\".format(cases), fraud_count)\n",
    "print(\"Total de casos :{}  casos de não fraude:\".format(cases), nonfraud_count)\n",
    "print(\"Percentage of fraudes  :\", fraud_percentage)\n",
    "\n",
    "plt.figure(figsize = (8, 8))\n",
    "pie_data = [df.Class[df[\"Class\"] == 1].count(), df.Class[df[\"Class\"] == 0].count()]\n",
    "pie_labels = [\"Fraud\", \"Genuine\"]\n",
    "plt.pie(pie_data, labels = pie_labels, explode = [1, 0], shadow = True, colors = mpl_color[1:3], autopct = \"%.3f%%\")\n",
    "plt.title(\"Proporção de Fraudes\", size = 20)\n",
    "plt.show()"
   ]
  },
  {
   "cell_type": "markdown",
   "metadata": {
    "id": "OKM3vmVXezYd"
   },
   "source": [
    "Do total de 275.663 casos, apenas 0,172% dos casos são fraudes, o que causa um problema de desequilíbrio em nosso conjunto de dados.\n",
    "A avaliação de nossos modelos finais será, portanto, feita não com base na precisão dos modelos, mas com base no número de transações de fraude corretamente previstas de todas as transações de fraude reais, ou seja, o recall de nosso algoritmo."
   ]
  },
  {
   "cell_type": "code",
   "execution_count": 13,
   "metadata": {
    "colab": {
     "base_uri": "https://localhost:8080/"
    },
    "id": "GtoCcV0Lb_5n",
    "outputId": "4e53c907-47dd-404c-ba5b-4db925352de6"
   },
   "outputs": [
    {
     "name": "stdout",
     "output_type": "stream",
     "text": [
      "count    275190.000000\n",
      "mean         90.521154\n",
      "std         253.198478\n",
      "min           0.000000\n",
      "25%           6.390000\n",
      "50%          23.750000\n",
      "75%          79.900000\n",
      "max       25691.160000\n",
      "Name: Amount, dtype: float64\n",
      "count     473.000000\n",
      "mean      123.871860\n",
      "std       260.211041\n",
      "min         0.000000\n",
      "25%         1.000000\n",
      "50%         9.820000\n",
      "75%       105.890000\n",
      "max      2125.870000\n",
      "Name: Amount, dtype: float64\n"
     ]
    }
   ],
   "source": [
    "print(df[df['Class']==0].Amount.describe())\n",
    "print(df[df['Class']==1].Amount.describe())"
   ]
  },
  {
   "cell_type": "markdown",
   "metadata": {
    "id": "4HgMRSSefiDp"
   },
   "source": [
    "O intervalo de dados da coluna Amount precisa der padronizado para o modelo prever as classes corretamente.\n",
    "Será usado o RobustScaler para fazer isso, pois ele é robusto aos outliers, já que ele remove a mediana e dimensiona os dados no intervalo entre o primeiro e o terceiro quartil."
   ]
  },
  {
   "cell_type": "code",
   "execution_count": 14,
   "metadata": {
    "id": "IdfWLP7vgeee"
   },
   "outputs": [],
   "source": [
    "scaler = RobustScaler()\n",
    "df['Amount'] = scaler.fit_transform(df[['Amount']])"
   ]
  },
  {
   "cell_type": "markdown",
   "metadata": {
    "id": "-be7MR3Ph1QJ"
   },
   "source": [
    "Mesmo que não saibamos quais são os recursos \"V\", ainda precisamos saber o quanto eles influenciam a variável de destino (Fraud ou No Fraud). Por ter um dataframe desequilibrado, não poderemos ver as verdadeiras correlações entre a classe e os recursos. Portanto, devemos subamostrar a Classe 0 para reduzi-la a proporções iguais com a Classe 1."
   ]
  },
  {
   "cell_type": "markdown",
   "metadata": {
    "id": "wFsb5OnqjJCH"
   },
   "source": [
    "Antes de subamostrar, precisamos ter um conjunto de dados de teste dos dados originais, esses dados de teste devem ser completamente novos para o modelo durante as previsões. Portanto, faremos uma divisão de teste e de treino e prosseguiremos com a subamostragem."
   ]
  },
  {
   "cell_type": "code",
   "execution_count": 15,
   "metadata": {
    "id": "ePHXk0RlhuEK"
   },
   "outputs": [],
   "source": [
    "X_orig = df.loc[:,df.columns != \"Class\"]\n",
    "y_orig = df.Class\n",
    "X_train, X_test, y_train, y_test = train_test_split(X_orig, y_orig, test_size = 0.2)"
   ]
  },
  {
   "cell_type": "markdown",
   "metadata": {
    "id": "wWJtUIhxkd_9"
   },
   "source": [
    "Undersampling"
   ]
  },
  {
   "cell_type": "code",
   "execution_count": 16,
   "metadata": {
    "colab": {
     "base_uri": "https://localhost:8080/"
    },
    "id": "ewhUtYCijxLx",
    "outputId": "0f3f53bb-7fc0-425c-8c94-38bc9e04a871"
   },
   "outputs": [
    {
     "name": "stdout",
     "output_type": "stream",
     "text": [
      "Porcentagem dos casos de fraude: 0.17\n",
      "Número de casos de fraude: 375\n",
      "Porcentagem dos casos de fraude depois do rebalanceamento: 50.0\n",
      "Número de casos de fraude depois do rebalanceamento: 375\n",
      "<class 'pandas.core.frame.DataFrame'>\n",
      "Int64Index: 750 entries, 137158 to 154720\n",
      "Data columns (total 30 columns):\n",
      " #   Column  Non-Null Count  Dtype  \n",
      "---  ------  --------------  -----  \n",
      " 0   V1      750 non-null    float64\n",
      " 1   V2      750 non-null    float64\n",
      " 2   V3      750 non-null    float64\n",
      " 3   V4      750 non-null    float64\n",
      " 4   V5      750 non-null    float64\n",
      " 5   V6      750 non-null    float64\n",
      " 6   V7      750 non-null    float64\n",
      " 7   V8      750 non-null    float64\n",
      " 8   V9      750 non-null    float64\n",
      " 9   V10     750 non-null    float64\n",
      " 10  V11     750 non-null    float64\n",
      " 11  V12     750 non-null    float64\n",
      " 12  V13     750 non-null    float64\n",
      " 13  V14     750 non-null    float64\n",
      " 14  V15     750 non-null    float64\n",
      " 15  V16     750 non-null    float64\n",
      " 16  V17     750 non-null    float64\n",
      " 17  V18     750 non-null    float64\n",
      " 18  V19     750 non-null    float64\n",
      " 19  V20     750 non-null    float64\n",
      " 20  V21     750 non-null    float64\n",
      " 21  V22     750 non-null    float64\n",
      " 22  V23     750 non-null    float64\n",
      " 23  V24     750 non-null    float64\n",
      " 24  V25     750 non-null    float64\n",
      " 25  V26     750 non-null    float64\n",
      " 26  V27     750 non-null    float64\n",
      " 27  V28     750 non-null    float64\n",
      " 28  Amount  750 non-null    float64\n",
      " 29  Class   750 non-null    int64  \n",
      "dtypes: float64(29), int64(1)\n",
      "memory usage: 181.6 KB\n"
     ]
    }
   ],
   "source": [
    "df_train = pd.concat([X_train, y_train], axis=1)\n",
    "print(\"Porcentagem dos casos de fraude:\", round(len(df_train[df_train.Class == 1])/len(df_train)*100, 3))\n",
    "print(\"Número de casos de fraude:\", len(df_train[df_train.Class == 1]))\n",
    "\n",
    "# Lets shuffle the data before creating the new balanced dataframe\n",
    "df_train = df_train.sample(frac=1)\n",
    "\n",
    "fraud_df_train = df_train.loc[df_train['Class'] == 1]\n",
    "non_fraud_df_train = df_train.loc[df_train['Class'] == 0][:len(fraud_df_train)]\n",
    "\n",
    "balanced_df_train = pd.concat([fraud_df_train, non_fraud_df_train])\n",
    "\n",
    "# Shuffle again\n",
    "balanced_df_train = balanced_df_train.sample(frac=1, random_state=42)\n",
    "print(\"Porcentagem dos casos de fraude depois do rebalanceamento:\", round(len(balanced_df_train[balanced_df_train.Class == 1])/len(balanced_df_train)*100, 3))\n",
    "print(\"Número de casos de fraude depois do rebalanceamento:\", len(balanced_df_train[balanced_df_train.Class == 1]))\n",
    "balanced_df_train.info()"
   ]
  },
  {
   "cell_type": "markdown",
   "metadata": {
    "id": "73KaMOilknbB"
   },
   "source": [
    "Verificando a correlação após a subamostragem\n",
    "Vamos verificar a matriz de correlação e obter mais insights que possam afetar a variável target."
   ]
  },
  {
   "cell_type": "code",
   "execution_count": 17,
   "metadata": {
    "colab": {
     "base_uri": "https://localhost:8080/",
     "height": 959
    },
    "id": "oO9-4aWgmebd",
    "outputId": "546b9739-da82-407e-b3f6-d0de04e85ff0"
   },
   "outputs": [
    {
     "data": {
      "text/html": [
       "<div>\n",
       "<style scoped>\n",
       "    .dataframe tbody tr th:only-of-type {\n",
       "        vertical-align: middle;\n",
       "    }\n",
       "\n",
       "    .dataframe tbody tr th {\n",
       "        vertical-align: top;\n",
       "    }\n",
       "\n",
       "    .dataframe thead th {\n",
       "        text-align: right;\n",
       "    }\n",
       "</style>\n",
       "<table border=\"1\" class=\"dataframe\">\n",
       "  <thead>\n",
       "    <tr style=\"text-align: right;\">\n",
       "      <th></th>\n",
       "      <th>Class</th>\n",
       "    </tr>\n",
       "  </thead>\n",
       "  <tbody>\n",
       "    <tr>\n",
       "      <th>V4</th>\n",
       "      <td>0.684948</td>\n",
       "    </tr>\n",
       "    <tr>\n",
       "      <th>V11</th>\n",
       "      <td>0.668962</td>\n",
       "    </tr>\n",
       "    <tr>\n",
       "      <th>V2</th>\n",
       "      <td>0.481635</td>\n",
       "    </tr>\n",
       "    <tr>\n",
       "      <th>V19</th>\n",
       "      <td>0.263898</td>\n",
       "    </tr>\n",
       "    <tr>\n",
       "      <th>V20</th>\n",
       "      <td>0.179367</td>\n",
       "    </tr>\n",
       "    <tr>\n",
       "      <th>V21</th>\n",
       "      <td>0.166565</td>\n",
       "    </tr>\n",
       "    <tr>\n",
       "      <th>V8</th>\n",
       "      <td>0.156734</td>\n",
       "    </tr>\n",
       "    <tr>\n",
       "      <th>V27</th>\n",
       "      <td>0.130726</td>\n",
       "    </tr>\n",
       "    <tr>\n",
       "      <th>V28</th>\n",
       "      <td>0.094869</td>\n",
       "    </tr>\n",
       "    <tr>\n",
       "      <th>Amount</th>\n",
       "      <td>0.083200</td>\n",
       "    </tr>\n",
       "    <tr>\n",
       "      <th>V25</th>\n",
       "      <td>0.051613</td>\n",
       "    </tr>\n",
       "    <tr>\n",
       "      <th>V26</th>\n",
       "      <td>0.036001</td>\n",
       "    </tr>\n",
       "    <tr>\n",
       "      <th>V22</th>\n",
       "      <td>0.033507</td>\n",
       "    </tr>\n",
       "    <tr>\n",
       "      <th>V15</th>\n",
       "      <td>0.003746</td>\n",
       "    </tr>\n",
       "    <tr>\n",
       "      <th>V24</th>\n",
       "      <td>-0.047865</td>\n",
       "    </tr>\n",
       "    <tr>\n",
       "      <th>V13</th>\n",
       "      <td>-0.065059</td>\n",
       "    </tr>\n",
       "    <tr>\n",
       "      <th>V23</th>\n",
       "      <td>-0.089242</td>\n",
       "    </tr>\n",
       "    <tr>\n",
       "      <th>V5</th>\n",
       "      <td>-0.362412</td>\n",
       "    </tr>\n",
       "    <tr>\n",
       "      <th>V1</th>\n",
       "      <td>-0.441048</td>\n",
       "    </tr>\n",
       "    <tr>\n",
       "      <th>V6</th>\n",
       "      <td>-0.444521</td>\n",
       "    </tr>\n",
       "    <tr>\n",
       "      <th>V18</th>\n",
       "      <td>-0.462372</td>\n",
       "    </tr>\n",
       "    <tr>\n",
       "      <th>V7</th>\n",
       "      <td>-0.482833</td>\n",
       "    </tr>\n",
       "    <tr>\n",
       "      <th>V9</th>\n",
       "      <td>-0.544311</td>\n",
       "    </tr>\n",
       "    <tr>\n",
       "      <th>V17</th>\n",
       "      <td>-0.552137</td>\n",
       "    </tr>\n",
       "    <tr>\n",
       "      <th>V3</th>\n",
       "      <td>-0.565521</td>\n",
       "    </tr>\n",
       "    <tr>\n",
       "      <th>V16</th>\n",
       "      <td>-0.586245</td>\n",
       "    </tr>\n",
       "    <tr>\n",
       "      <th>V10</th>\n",
       "      <td>-0.637922</td>\n",
       "    </tr>\n",
       "    <tr>\n",
       "      <th>V12</th>\n",
       "      <td>-0.681196</td>\n",
       "    </tr>\n",
       "    <tr>\n",
       "      <th>V14</th>\n",
       "      <td>-0.742861</td>\n",
       "    </tr>\n",
       "  </tbody>\n",
       "</table>\n",
       "</div>"
      ],
      "text/plain": [
       "           Class\n",
       "V4      0.684948\n",
       "V11     0.668962\n",
       "V2      0.481635\n",
       "V19     0.263898\n",
       "V20     0.179367\n",
       "V21     0.166565\n",
       "V8      0.156734\n",
       "V27     0.130726\n",
       "V28     0.094869\n",
       "Amount  0.083200\n",
       "V25     0.051613\n",
       "V26     0.036001\n",
       "V22     0.033507\n",
       "V15     0.003746\n",
       "V24    -0.047865\n",
       "V13    -0.065059\n",
       "V23    -0.089242\n",
       "V5     -0.362412\n",
       "V1     -0.441048\n",
       "V6     -0.444521\n",
       "V18    -0.462372\n",
       "V7     -0.482833\n",
       "V9     -0.544311\n",
       "V17    -0.552137\n",
       "V3     -0.565521\n",
       "V16    -0.586245\n",
       "V10    -0.637922\n",
       "V12    -0.681196\n",
       "V14    -0.742861"
      ]
     },
     "execution_count": 17,
     "metadata": {},
     "output_type": "execute_result"
    }
   ],
   "source": [
    "balanced_df_train.corr()[\"Class\"][:-1].to_frame().sort_values('Class', ascending=False)"
   ]
  },
  {
   "cell_type": "code",
   "execution_count": 18,
   "metadata": {
    "colab": {
     "base_uri": "https://localhost:8080/",
     "height": 742
    },
    "id": "AWnff7Uqk9K7",
    "outputId": "91a9e579-5cf5-4839-ef74-dc0e0d44816f"
   },
   "outputs": [
    {
     "data": {
      "image/png": "[encoded data removed]",
      "text/plain": [
       "<Figure size 1584x864 with 2 Axes>"
      ]
     },
     "metadata": {},
     "output_type": "display_data"
    }
   ],
   "source": [
    "matrix = df.corr().round(2)\n",
    "mask = np.triu(np.ones_like(matrix, dtype=bool))\n",
    "plt.figure(figsize=(22,12)) \n",
    "sns.heatmap(matrix, annot=True, vmax=0.7, vmin=-1, center=0, cmap='vlag', mask=mask)\n",
    "plt.show()"
   ]
  },
  {
   "cell_type": "markdown",
   "metadata": {
    "id": "Dz_UuGSknF1P"
   },
   "source": [
    "Maiores correlações negativas - V14 V12 V10\n",
    "Maiores correlações positivas - V11 V4"
   ]
  },
  {
   "cell_type": "markdown",
   "metadata": {
    "id": "GcWrkyA_m_ws"
   },
   "source": [
    "Vamos ver como se comportam as de maior correlação negativa"
   ]
  },
  {
   "cell_type": "code",
   "execution_count": 19,
   "metadata": {
    "colab": {
     "base_uri": "https://localhost:8080/",
     "height": 435
    },
    "id": "6Qa8TRNEl4SF",
    "outputId": "ceb78442-72b4-41fa-eded-4288d0d8a94b"
   },
   "outputs": [
    {
     "data": {
      "image/png": "[encoded data removed]",
      "text/plain": [
       "<Figure size 864x432 with 3 Axes>"
      ]
     },
     "metadata": {},
     "output_type": "display_data"
    }
   ],
   "source": [
    "fig, ax = plt.subplots(ncols=3, figsize=(12,6), tight_layout = True)\n",
    "sns.boxplot(x=\"Class\",y=\"V14\", data=balanced_df_train, ax=ax[0])\n",
    "sns.boxplot(x=\"Class\",y=\"V12\", data=balanced_df_train, ax=ax[1])\n",
    "sns.boxplot(x=\"Class\",y=\"V10\", data=balanced_df_train, ax=ax[2])\n",
    "\n",
    "plt.show()"
   ]
  },
  {
   "cell_type": "markdown",
   "metadata": {
    "id": "zRRnVtWMnZ4T"
   },
   "source": [
    "Vamos ver como se comportam as de maior correlação positiva"
   ]
  },
  {
   "cell_type": "code",
   "execution_count": 20,
   "metadata": {
    "colab": {
     "base_uri": "https://localhost:8080/",
     "height": 435
    },
    "id": "1yEKN0Sgm6xN",
    "outputId": "0ba7f358-9b5a-4c0b-99a8-2d3a81de0e17"
   },
   "outputs": [
    {
     "data": {
      "image/png": "[encoded data removed]",
      "text/plain": [
       "<Figure size 576x432 with 2 Axes>"
      ]
     },
     "metadata": {},
     "output_type": "display_data"
    }
   ],
   "source": [
    "fig, ax = plt.subplots(ncols=2, figsize=(8,6), tight_layout = True)\n",
    "sns.boxplot(x=\"Class\",y=\"V11\", data=balanced_df_train, ax=ax[0])\n",
    "sns.boxplot(x=\"Class\",y=\"V4\", data=balanced_df_train, ax=ax[1])\n",
    "\n",
    "plt.show()"
   ]
  },
  {
   "cell_type": "markdown",
   "metadata": {
    "id": "mY6p7XkAns0w"
   },
   "source": [
    "Precisamos agora cuidar dos outliers, pois prever um caso de não fraude como sendo fraude também é importante para não desmotivar os clientes idôneos "
   ]
  },
  {
   "cell_type": "code",
   "execution_count": 21,
   "metadata": {
    "colab": {
     "base_uri": "https://localhost:8080/"
    },
    "id": "U4kHCVIKniAL",
    "outputId": "79010914-1004-4729-fb08-133a0f1c07f9"
   },
   "outputs": [
    {
     "name": "stdout",
     "output_type": "stream",
     "text": [
      "7  outliers da coluna  V14  foram removidos do dataset\n",
      "25  outliers da coluna  V12  foram removidos do dataset\n",
      "32  outliers da coluna  V10  foram removidos do dataset\n",
      "0  outliers da coluna  V11  foram removidos do dataset\n",
      "0  outliers da coluna  V4  foram removidos do dataset\n"
     ]
    }
   ],
   "source": [
    "out_features = [\"V14\", \"V12\", \"V10\",\"V11\",\"V4\"]\n",
    "for feature in out_features:\n",
    "    Q1 = balanced_df_train[feature].quantile(0.25)\n",
    "    Q3 = balanced_df_train[feature].quantile(0.75)\n",
    "    IQR = Q3-Q1\n",
    "    top = Q3 + 1.5*IQR # Not necessary for negatively correlated features\n",
    "    bottom = Q1 - 1.5*IQR\n",
    "\n",
    "    index = balanced_df_train[(balanced_df_train[feature] < bottom)].index\n",
    "    print(len(index), \" outliers da coluna \", feature, \" foram removidos do dataset\")\n",
    "    balanced_df_train = balanced_df_train.drop(index)"
   ]
  },
  {
   "cell_type": "code",
   "execution_count": 22,
   "metadata": {
    "colab": {
     "base_uri": "https://localhost:8080/",
     "height": 435
    },
    "id": "tYw3iRzjohcU",
    "outputId": "7d477224-f426-4b3b-ceb7-86a2888d7029"
   },
   "outputs": [
    {
     "data": {
      "image/png": "[encoded data removed]",
      "text/plain": [
       "<Figure size 864x432 with 3 Axes>"
      ]
     },
     "metadata": {},
     "output_type": "display_data"
    }
   ],
   "source": [
    "fig, ax = plt.subplots(ncols=3, figsize=(12,6), tight_layout = True)\n",
    "sns.boxplot(x=\"Class\",y=\"V14\", data=balanced_df_train, ax=ax[0])\n",
    "sns.boxplot(x=\"Class\",y=\"V12\", data=balanced_df_train, ax=ax[1])\n",
    "sns.boxplot(x=\"Class\",y=\"V10\", data=balanced_df_train, ax=ax[2])\n",
    "\n",
    "plt.show()"
   ]
  },
  {
   "cell_type": "code",
   "execution_count": 23,
   "metadata": {
    "colab": {
     "base_uri": "https://localhost:8080/",
     "height": 435
    },
    "id": "VI_HGKJwpoJY",
    "outputId": "1000fdb9-cb8d-43a7-e99a-faaa873db55f"
   },
   "outputs": [
    {
     "data": {
      "image/png": "[encoded data removed]",
      "text/plain": [
       "<Figure size 288x432 with 1 Axes>"
      ]
     },
     "metadata": {},
     "output_type": "display_data"
    }
   ],
   "source": [
    "plt.figure(figsize=(4,6), tight_layout = True)\n",
    "sns.boxplot(x=\"Class\",y=\"V11\", data=balanced_df_train)\n",
    "plt.show()"
   ]
  },
  {
   "cell_type": "markdown",
   "metadata": {
    "id": "7_b5fbf9qCIs"
   },
   "source": [
    "Todos os outliers foram tratados. Vamos prosseguir com a modelagem.\n",
    "\n",
    "Modelagem após subamostragem\n",
    "Os seguintes modelos serão testados neste estudo de caso:\n",
    "\n",
    "- Classificador de regressão logística\n",
    "- Classificador KNN\n",
    "- Classificador SV\n",
    "- Classificador de Floresta Aleatória\n",
    "- Classificador XGB\n",
    "\n",
    "Para cada algoritmo, faremos o ajuste de hiperparâmetros usando GridSearchCV para obter os melhores parâmetros e a melhor pontuação de CV. Em seguida, aplicaremos cada melhor modelo novamente para obter a pontuação do treinamento.\n",
    "Alta pontuação de treinamento e baixa pontuação CV ==> Overfitting ao conjunto de treinamento Baixa pontuação de treinamento e baixa pontuação CV ==> Underfitting Ambas as pontuações altas ==> Um bom modelo generalizado"
   ]
  },
  {
   "cell_type": "code",
   "execution_count": 24,
   "metadata": {
    "id": "IVSWmPDQp-QH"
   },
   "outputs": [],
   "source": [
    "y_balanced = balanced_df_train.Class\n",
    "X_balanced = balanced_df_train.loc[:, balanced_df_train.columns != 'Class']"
   ]
  },
  {
   "cell_type": "markdown",
   "metadata": {
    "id": "T1pZECm4qmwF"
   },
   "source": [
    "Regressão Logistica"
   ]
  },
  {
   "cell_type": "code",
   "execution_count": 25,
   "metadata": {
    "colab": {
     "base_uri": "https://localhost:8080/"
    },
    "id": "sh5g_5Lepom-",
    "outputId": "6f5e4636-184f-4a2f-f989-86ba4ad0d62d"
   },
   "outputs": [
    {
     "name": "stdout",
     "output_type": "stream",
     "text": [
      "0.9358193166190627\n",
      "{'C': 0.1, 'max_iter': 500, 'tol': 1e-05}\n",
      "LogisticRegression(C=0.1, max_iter=500, solver='liblinear', tol=1e-05)\n"
     ]
    }
   ],
   "source": [
    "param_grid = {'C': [0.1,0.5,1,10], 'max_iter' : [500, 750], 'tol':[0.00001,0.0001, 0.001]}\n",
    "lr_grid = GridSearchCV(LogisticRegression(solver = 'liblinear'),param_grid, cv=5)\n",
    "lr_grid.fit(X_balanced, y_balanced)\n",
    "print(lr_grid.best_score_)    \n",
    "print(lr_grid.best_params_)\n",
    "print(lr_grid.best_estimator_)"
   ]
  },
  {
   "cell_type": "markdown",
   "metadata": {
    "id": "SqArSLC6q3vS"
   },
   "source": [
    "Regressão logística - Ajustando modelo"
   ]
  },
  {
   "cell_type": "code",
   "execution_count": 26,
   "metadata": {
    "colab": {
     "base_uri": "https://localhost:8080/"
    },
    "id": "xLgrLI2rquMd",
    "outputId": "1d0969ea-e685-493f-9419-94977db6c1cf"
   },
   "outputs": [
    {
     "name": "stdout",
     "output_type": "stream",
     "text": [
      "              precision    recall  f1-score   support\n",
      "\n",
      "           0       0.92      0.98      0.95       375\n",
      "           1       0.98      0.89      0.93       311\n",
      "\n",
      "    accuracy                           0.94       686\n",
      "   macro avg       0.95      0.94      0.94       686\n",
      "weighted avg       0.94      0.94      0.94       686\n",
      "\n"
     ]
    }
   ],
   "source": [
    "lr_model = LogisticRegression(C=0.5, max_iter=500, solver='liblinear', tol=1e-05)\n",
    "lr_model.fit(X_balanced, y_balanced)\n",
    "lr_yhat = lr_model.predict(X_balanced)\n",
    "print(classification_report(y_balanced, lr_yhat))"
   ]
  },
  {
   "cell_type": "markdown",
   "metadata": {
    "id": "9Y5eTG2ErEs6"
   },
   "source": [
    "KNN Classifier"
   ]
  },
  {
   "cell_type": "code",
   "execution_count": 27,
   "metadata": {
    "colab": {
     "base_uri": "https://localhost:8080/"
    },
    "id": "CWu9g4xuq72A",
    "outputId": "ee489792-5138-4054-a697-bd9e48db7281"
   },
   "outputs": [
    {
     "name": "stdout",
     "output_type": "stream",
     "text": [
      "0.9329525018512642\n",
      "{'algorithm': 'auto', 'n_neighbors': 3}\n",
      "KNeighborsClassifier(n_neighbors=3)\n"
     ]
    }
   ],
   "source": [
    "param_grid = {\"n_neighbors\": list(range(2,5,1)), 'algorithm': ['auto', 'ball_tree', 'kd_tree', 'brute']}\n",
    "knn_grid = GridSearchCV(KNeighborsClassifier(), param_grid, cv=5)\n",
    "knn_grid.fit(X_balanced, y_balanced)\n",
    "\n",
    "print(knn_grid.best_score_)    \n",
    "print(knn_grid.best_params_)\n",
    "print(knn_grid.best_estimator_)"
   ]
  },
  {
   "cell_type": "markdown",
   "metadata": {
    "id": "HrHA0YGmrMdY"
   },
   "source": [
    "KNN - Fit best model"
   ]
  },
  {
   "cell_type": "code",
   "execution_count": 28,
   "metadata": {
    "colab": {
     "base_uri": "https://localhost:8080/"
    },
    "id": "aQXE6aeIrIHN",
    "outputId": "19b47963-ad6e-4e1b-fb2a-96c87529c731"
   },
   "outputs": [
    {
     "name": "stdout",
     "output_type": "stream",
     "text": [
      "              precision    recall  f1-score   support\n",
      "\n",
      "           0       0.93      0.99      0.96       375\n",
      "           1       0.99      0.91      0.95       311\n",
      "\n",
      "    accuracy                           0.95       686\n",
      "   macro avg       0.96      0.95      0.95       686\n",
      "weighted avg       0.96      0.95      0.95       686\n",
      "\n"
     ]
    }
   ],
   "source": [
    "knn_model = KNeighborsClassifier(n_neighbors=3)\n",
    "knn_model.fit(X_balanced, y_balanced)\n",
    "knn_yhat = knn_model.predict(X_balanced)\n",
    "print(classification_report(y_balanced, knn_yhat))"
   ]
  },
  {
   "cell_type": "markdown",
   "metadata": {
    "id": "zc69n29grS1Z"
   },
   "source": [
    "SVM Classifier"
   ]
  },
  {
   "cell_type": "code",
   "execution_count": 29,
   "metadata": {
    "colab": {
     "base_uri": "https://localhost:8080/"
    },
    "id": "Ida6m7hprPeF",
    "outputId": "0e140ac4-4b1f-4670-866d-467b1f3e30c1"
   },
   "outputs": [
    {
     "name": "stdout",
     "output_type": "stream",
     "text": [
      "0.9256214958214322\n",
      "{'C': 0.9, 'kernel': 'rbf'}\n",
      "SVC(C=0.9)\n"
     ]
    }
   ],
   "source": [
    "param_grid = {'C': [0.5, 0.7, 0.9, 1], 'kernel': ['rbf', 'poly', 'sigmoid', 'linear']}\n",
    "svc_grid = GridSearchCV(SVC(), param_grid, cv=5)\n",
    "svc_grid.fit(X_balanced, y_balanced)\n",
    "\n",
    "print(svc_grid.best_score_)    \n",
    "print(svc_grid.best_params_)\n",
    "print(svc_grid.best_estimator_)"
   ]
  },
  {
   "cell_type": "markdown",
   "metadata": {
    "id": "32ACOppfrY2N"
   },
   "source": [
    "SVC - Fit best model"
   ]
  },
  {
   "cell_type": "code",
   "execution_count": 30,
   "metadata": {
    "colab": {
     "base_uri": "https://localhost:8080/"
    },
    "id": "EJQ_if6HrVXW",
    "outputId": "4e9b416b-8297-4a43-9abc-58b61ff51225"
   },
   "outputs": [
    {
     "name": "stdout",
     "output_type": "stream",
     "text": [
      "              precision    recall  f1-score   support\n",
      "\n",
      "           0       0.91      0.99      0.95       375\n",
      "           1       0.98      0.88      0.93       311\n",
      "\n",
      "    accuracy                           0.94       686\n",
      "   macro avg       0.95      0.94      0.94       686\n",
      "weighted avg       0.94      0.94      0.94       686\n",
      "\n"
     ]
    }
   ],
   "source": [
    "svc_model = SVC(C=0.5, kernel='linear')\n",
    "svc_model.fit(X_balanced, y_balanced)\n",
    "svc_yhat = svc_model.predict(X_balanced)\n",
    "print(classification_report(y_balanced, svc_yhat))"
   ]
  },
  {
   "cell_type": "markdown",
   "metadata": {
    "id": "yRC8rLMwriZy"
   },
   "source": [
    "Random Forest Classifier"
   ]
  },
  {
   "cell_type": "code",
   "execution_count": 31,
   "metadata": {
    "colab": {
     "base_uri": "https://localhost:8080/"
    },
    "id": "iikBhzs_re8g",
    "outputId": "9baf9858-5cb1-4f7d-e466-88a692a33767"
   },
   "outputs": [
    {
     "name": "stdout",
     "output_type": "stream",
     "text": [
      "0.9358404739236221\n",
      "{'max_depth': 6, 'max_features': 5, 'min_samples_split': 6, 'n_estimators': 100}\n",
      "RandomForestClassifier(max_depth=6, max_features=5, min_samples_split=6)\n"
     ]
    }
   ],
   "source": [
    "param_grid = {'max_depth': [5, 6, 7, 8], 'max_features': [4,5,6,7,8],'n_estimators':[100, 250, 500],'min_samples_split': [4, 5, 6, 7]}\n",
    "rf_grid = GridSearchCV(RandomForestClassifier(),param_grid, cv=5)\n",
    "rf_grid.fit(X_balanced, y_balanced)\n",
    "print(rf_grid.best_score_)\n",
    "print(rf_grid.best_params_)\n",
    "print(rf_grid.best_estimator_)"
   ]
  },
  {
   "cell_type": "markdown",
   "metadata": {
    "id": "Wus9zO2uroLD"
   },
   "source": [
    "RF - Fit best model"
   ]
  },
  {
   "cell_type": "code",
   "execution_count": 32,
   "metadata": {
    "colab": {
     "base_uri": "https://localhost:8080/"
    },
    "id": "IGxZNWJIrkxU",
    "outputId": "00d4eb43-3d29-4292-8c60-a23fd3166f33"
   },
   "outputs": [
    {
     "name": "stdout",
     "output_type": "stream",
     "text": [
      "              precision    recall  f1-score   support\n",
      "\n",
      "           0       0.92      1.00      0.96       375\n",
      "           1       1.00      0.89      0.94       311\n",
      "\n",
      "    accuracy                           0.95       686\n",
      "   macro avg       0.96      0.95      0.95       686\n",
      "weighted avg       0.95      0.95      0.95       686\n",
      "\n"
     ]
    }
   ],
   "source": [
    "rf_model = RandomForestClassifier(max_depth=6, max_features=5, min_samples_split=7, n_estimators=100)\n",
    "rf_model.fit(X_balanced, y_balanced)\n",
    "rf_yhat = rf_model.predict(X_balanced)\n",
    "print(classification_report(y_balanced, rf_yhat))"
   ]
  },
  {
   "cell_type": "markdown",
   "metadata": {
    "id": "MkXwwyJuruJC"
   },
   "source": [
    "XGB Classifier"
   ]
  },
  {
   "cell_type": "code",
   "execution_count": 33,
   "metadata": {
    "colab": {
     "base_uri": "https://localhost:8080/"
    },
    "id": "c3t7kgh-ru7t",
    "outputId": "f2f49aad-ba6e-4581-9243-010a36b70036"
   },
   "outputs": [
    {
     "name": "stdout",
     "output_type": "stream",
     "text": [
      "0.9343806199090234\n",
      "{'gamma': 0.001, 'max_depth': 5, 'min_child_weight': 1, 'n_estimators': 750}\n",
      "XGBClassifier(base_score=0.5, booster='gbtree', callbacks=None,\n",
      "              colsample_bylevel=1, colsample_bynode=1, colsample_bytree=1,\n",
      "              early_stopping_rounds=None, enable_categorical=False,\n",
      "              eval_metric=None, gamma=0.001, gpu_id=-1, grow_policy='depthwise',\n",
      "              importance_type=None, interaction_constraints='',\n",
      "              learning_rate=0.300000012, max_bin=256, max_cat_to_onehot=4,\n",
      "              max_delta_step=0, max_depth=5, max_leaves=0, min_child_weight=1,\n",
      "              missing=nan, monotone_constraints='()', n_estimators=750,\n",
      "              n_jobs=0, num_parallel_tree=1, predictor='auto', random_state=0,\n",
      "              reg_alpha=0, reg_lambda=1, ...)\n"
     ]
    }
   ],
   "source": [
    "param_grid = {'max_depth': [5,6,7,8], 'gamma': [0.01,0.001], 'n_estimators':[500, 750], 'min_child_weight':[1,5,10]}\n",
    "xgb_grid = GridSearchCV(XGBClassifier(),param_grid, cv=5)\n",
    "xgb_grid.fit(X_balanced, y_balanced)\n",
    "print(xgb_grid.best_score_)\n",
    "print(xgb_grid.best_params_)\n",
    "print(xgb_grid.best_estimator_)"
   ]
  },
  {
   "cell_type": "markdown",
   "metadata": {
    "id": "vul5Zethrz_K"
   },
   "source": [
    "XGB - Fit best model"
   ]
  },
  {
   "cell_type": "code",
   "execution_count": 34,
   "metadata": {
    "colab": {
     "base_uri": "https://localhost:8080/"
    },
    "id": "lYpHmQ8Ur0lI",
    "outputId": "d017cfc8-c452-4c6a-c9ea-501b97419b16"
   },
   "outputs": [
    {
     "name": "stdout",
     "output_type": "stream",
     "text": [
      "              precision    recall  f1-score   support\n",
      "\n",
      "           0       1.00      1.00      1.00       375\n",
      "           1       1.00      1.00      1.00       311\n",
      "\n",
      "    accuracy                           1.00       686\n",
      "   macro avg       1.00      1.00      1.00       686\n",
      "weighted avg       1.00      1.00      1.00       686\n",
      "\n"
     ]
    }
   ],
   "source": [
    "xgb_model = XGBClassifier(max_depth=5, gamma=0.001, min_child_weight=1, n_estimators=500)\n",
    "xgb_model.fit(X_balanced, y_balanced)\n",
    "xgb_yhat = xgb_model.predict(X_balanced)\n",
    "print(classification_report(y_balanced, xgb_yhat))"
   ]
  },
  {
   "cell_type": "markdown",
   "metadata": {
    "id": "FmgIXdxOsQOH"
   },
   "source": [
    "Selecionando o melhor\n",
    "De todos os modelos e suas pontuações, o Random Forest Classifier deu os melhores resultados em termos de pontuação de treinamento e CV, tendo em mente a generalização do modelo para evitar overfitting e ainda ser capaz de prever com precisão em dados não vistos.\n",
    "Ajustando o melhor modelo em dados de teste:"
   ]
  },
  {
   "cell_type": "code",
   "execution_count": 35,
   "metadata": {
    "colab": {
     "base_uri": "https://localhost:8080/"
    },
    "id": "beKwcRzOsZ-u",
    "outputId": "760bb75d-863c-444d-e213-66b1037a8f9f"
   },
   "outputs": [
    {
     "name": "stdout",
     "output_type": "stream",
     "text": [
      "              precision    recall  f1-score   support\n",
      "\n",
      "           0       1.00      0.98      0.99     55035\n",
      "           1       0.09      0.92      0.17        98\n",
      "\n",
      "    accuracy                           0.98     55133\n",
      "   macro avg       0.55      0.95      0.58     55133\n",
      "weighted avg       1.00      0.98      0.99     55133\n",
      "\n"
     ]
    }
   ],
   "source": [
    "rf_test_yhat = rf_model.predict(X_test)\n",
    "print(classification_report(y_test, rf_test_yhat))"
   ]
  },
  {
   "cell_type": "markdown",
   "metadata": {
    "id": "bxZa1cv3s7e8"
   },
   "source": [
    "Como podemos ver nas pontuações dos testes acima, o método de subamostragem neste cenário não teve um bom desempenho para o modelo treinar adequadamente nos casos de fraude. O modelo ainda está prevendo 0 ou Não fraude para muitos dos casos de Fraude.\n",
    "De todos os casos reais de fraude (110), o modelo conseguiu prever 85% deles corretamente (como fraude).\n",
    "De todas as fraudes previstas, apenas 10% foram realmente fraudes. Isso significa que esse modelo deixou muitos clientes indignados, acusando-os de fraude, por engano, é claro.\n"
   ]
  },
  {
   "cell_type": "markdown",
   "metadata": {
    "id": "7bYWTpv4tGkC"
   },
   "source": [
    "Sobreamostragem (SMOTE)\n",
    "Tentaremos aumentar a amostragem da minoria usando a Técnica de Sobreamostragem da Minoria Sintética. Depois disso, aplicaremos as mesmas etapas da subamostragem para obter o conjunto de dados final para modelagem e previsões."
   ]
  },
  {
   "cell_type": "code",
   "execution_count": 36,
   "metadata": {
    "id": "g43pONDQtLh6"
   },
   "outputs": [],
   "source": [
    "smote = SMOTE(sampling_strategy=\"minority\")\n",
    "X_sm, y_sm = smote.fit_resample(X_train, y_train)"
   ]
  },
  {
   "cell_type": "code",
   "execution_count": 37,
   "metadata": {
    "colab": {
     "base_uri": "https://localhost:8080/"
    },
    "id": "9jlWPaqctMxO",
    "outputId": "7e5601a7-66f6-484e-e276-a6692887f62d"
   },
   "outputs": [
    {
     "data": {
      "text/plain": [
       "0    220155\n",
       "1    220155\n",
       "Name: Class, dtype: int64"
      ]
     },
     "execution_count": 37,
     "metadata": {},
     "output_type": "execute_result"
    }
   ],
   "source": [
    "y_sm.value_counts()"
   ]
  },
  {
   "cell_type": "markdown",
   "metadata": {
    "id": "TLaAy1F-tVKc"
   },
   "source": [
    "A minoria foi superestimada para corresponder à maioria anterior."
   ]
  },
  {
   "cell_type": "markdown",
   "metadata": {
    "id": "CVCcK36stUq7"
   },
   "source": [
    "Verificando a correlação após o SMOTE"
   ]
  },
  {
   "cell_type": "code",
   "execution_count": 38,
   "metadata": {
    "id": "bzoD3GTFtMpI"
   },
   "outputs": [],
   "source": [
    "df_sm_train = pd.concat([X_sm, y_sm], axis=1)\n",
    "# df_sm_train.corr()[\"Class\"][:-1]"
   ]
  },
  {
   "cell_type": "code",
   "execution_count": 39,
   "metadata": {
    "colab": {
     "base_uri": "https://localhost:8080/",
     "height": 959
    },
    "id": "WG-9K1vCtMeZ",
    "outputId": "ba27c330-2998-46c3-f9b6-15e15265be4b"
   },
   "outputs": [
    {
     "data": {
      "text/html": [
       "<div>\n",
       "<style scoped>\n",
       "    .dataframe tbody tr th:only-of-type {\n",
       "        vertical-align: middle;\n",
       "    }\n",
       "\n",
       "    .dataframe tbody tr th {\n",
       "        vertical-align: top;\n",
       "    }\n",
       "\n",
       "    .dataframe thead th {\n",
       "        text-align: right;\n",
       "    }\n",
       "</style>\n",
       "<table border=\"1\" class=\"dataframe\">\n",
       "  <thead>\n",
       "    <tr style=\"text-align: right;\">\n",
       "      <th></th>\n",
       "      <th>Class</th>\n",
       "    </tr>\n",
       "  </thead>\n",
       "  <tbody>\n",
       "    <tr>\n",
       "      <th>V4</th>\n",
       "      <td>0.697345</td>\n",
       "    </tr>\n",
       "    <tr>\n",
       "      <th>V11</th>\n",
       "      <td>0.692702</td>\n",
       "    </tr>\n",
       "    <tr>\n",
       "      <th>V2</th>\n",
       "      <td>0.505372</td>\n",
       "    </tr>\n",
       "    <tr>\n",
       "      <th>V19</th>\n",
       "      <td>0.297765</td>\n",
       "    </tr>\n",
       "    <tr>\n",
       "      <th>V20</th>\n",
       "      <td>0.206473</td>\n",
       "    </tr>\n",
       "    <tr>\n",
       "      <th>V8</th>\n",
       "      <td>0.202382</td>\n",
       "    </tr>\n",
       "    <tr>\n",
       "      <th>V21</th>\n",
       "      <td>0.200771</td>\n",
       "    </tr>\n",
       "    <tr>\n",
       "      <th>V27</th>\n",
       "      <td>0.141872</td>\n",
       "    </tr>\n",
       "    <tr>\n",
       "      <th>V28</th>\n",
       "      <td>0.108782</td>\n",
       "    </tr>\n",
       "    <tr>\n",
       "      <th>Amount</th>\n",
       "      <td>0.057098</td>\n",
       "    </tr>\n",
       "    <tr>\n",
       "      <th>V25</th>\n",
       "      <td>0.053992</td>\n",
       "    </tr>\n",
       "    <tr>\n",
       "      <th>V26</th>\n",
       "      <td>0.047715</td>\n",
       "    </tr>\n",
       "    <tr>\n",
       "      <th>V22</th>\n",
       "      <td>0.012867</td>\n",
       "    </tr>\n",
       "    <tr>\n",
       "      <th>V15</th>\n",
       "      <td>0.006353</td>\n",
       "    </tr>\n",
       "    <tr>\n",
       "      <th>V13</th>\n",
       "      <td>-0.039479</td>\n",
       "    </tr>\n",
       "    <tr>\n",
       "      <th>V23</th>\n",
       "      <td>-0.050989</td>\n",
       "    </tr>\n",
       "    <tr>\n",
       "      <th>V24</th>\n",
       "      <td>-0.087699</td>\n",
       "    </tr>\n",
       "    <tr>\n",
       "      <th>V5</th>\n",
       "      <td>-0.381108</td>\n",
       "    </tr>\n",
       "    <tr>\n",
       "      <th>V1</th>\n",
       "      <td>-0.422068</td>\n",
       "    </tr>\n",
       "    <tr>\n",
       "      <th>V18</th>\n",
       "      <td>-0.462201</td>\n",
       "    </tr>\n",
       "    <tr>\n",
       "      <th>V6</th>\n",
       "      <td>-0.465781</td>\n",
       "    </tr>\n",
       "    <tr>\n",
       "      <th>V7</th>\n",
       "      <td>-0.486848</td>\n",
       "    </tr>\n",
       "    <tr>\n",
       "      <th>V17</th>\n",
       "      <td>-0.556749</td>\n",
       "    </tr>\n",
       "    <tr>\n",
       "      <th>V3</th>\n",
       "      <td>-0.562072</td>\n",
       "    </tr>\n",
       "    <tr>\n",
       "      <th>V9</th>\n",
       "      <td>-0.568583</td>\n",
       "    </tr>\n",
       "    <tr>\n",
       "      <th>V16</th>\n",
       "      <td>-0.591651</td>\n",
       "    </tr>\n",
       "    <tr>\n",
       "      <th>V10</th>\n",
       "      <td>-0.646381</td>\n",
       "    </tr>\n",
       "    <tr>\n",
       "      <th>V12</th>\n",
       "      <td>-0.678288</td>\n",
       "    </tr>\n",
       "    <tr>\n",
       "      <th>V14</th>\n",
       "      <td>-0.753748</td>\n",
       "    </tr>\n",
       "  </tbody>\n",
       "</table>\n",
       "</div>"
      ],
      "text/plain": [
       "           Class\n",
       "V4      0.697345\n",
       "V11     0.692702\n",
       "V2      0.505372\n",
       "V19     0.297765\n",
       "V20     0.206473\n",
       "V8      0.202382\n",
       "V21     0.200771\n",
       "V27     0.141872\n",
       "V28     0.108782\n",
       "Amount  0.057098\n",
       "V25     0.053992\n",
       "V26     0.047715\n",
       "V22     0.012867\n",
       "V15     0.006353\n",
       "V13    -0.039479\n",
       "V23    -0.050989\n",
       "V24    -0.087699\n",
       "V5     -0.381108\n",
       "V1     -0.422068\n",
       "V18    -0.462201\n",
       "V6     -0.465781\n",
       "V7     -0.486848\n",
       "V17    -0.556749\n",
       "V3     -0.562072\n",
       "V9     -0.568583\n",
       "V16    -0.591651\n",
       "V10    -0.646381\n",
       "V12    -0.678288\n",
       "V14    -0.753748"
      ]
     },
     "execution_count": 39,
     "metadata": {},
     "output_type": "execute_result"
    }
   ],
   "source": [
    "df_sm_train.corr()[\"Class\"][:-1].to_frame().sort_values('Class', ascending=False)"
   ]
  },
  {
   "cell_type": "code",
   "execution_count": 40,
   "metadata": {
    "colab": {
     "base_uri": "https://localhost:8080/"
    },
    "id": "zvMxDvX1tMKp",
    "outputId": "9cab617b-841f-4e6e-ad87-ff274262fd0b"
   },
   "outputs": [
    {
     "name": "stdout",
     "output_type": "stream",
     "text": [
      "3872  number of V14  outliers removed from the dataset\n",
      "19722  number of V12  outliers removed from the dataset\n",
      "13910  number of V10  outliers removed from the dataset\n"
     ]
    }
   ],
   "source": [
    "out_features = [\"V14\", \"V12\", \"V10\"]\n",
    "for feature in out_features:\n",
    "    Q1 = df_sm_train[feature].quantile(0.25)\n",
    "    Q3 = df_sm_train[feature].quantile(0.75)\n",
    "    IQR = Q3-Q1\n",
    "    top = Q3 + 1.5*IQR # Not necessary for negatively correlated features\n",
    "    bottom = Q1 - 1.5*IQR\n",
    "\n",
    "    index = df_sm_train[(df_sm_train[feature] < bottom)].index\n",
    "    print(len(index), \" number of\", feature, \" outliers removed from the dataset\")\n",
    "    df_sm_train = df_sm_train.drop(index)"
   ]
  },
  {
   "cell_type": "markdown",
   "metadata": {
    "id": "YCDbv7AxwQ9J"
   },
   "source": [
    "Modelagem após SMOTE"
   ]
  },
  {
   "cell_type": "code",
   "execution_count": 41,
   "metadata": {
    "id": "0Yj3ttJVwEkI"
   },
   "outputs": [],
   "source": [
    "y_sm_new = df_sm_train.Class\n",
    "X_sm_new = df_sm_train.loc[:, df_sm_train.columns != 'Class']"
   ]
  },
  {
   "cell_type": "code",
   "execution_count": 42,
   "metadata": {
    "colab": {
     "base_uri": "https://localhost:8080/"
    },
    "id": "7QMSdStIwViy",
    "outputId": "a760e796-692b-4acf-b6ac-d6b723fefa3f"
   },
   "outputs": [
    {
     "name": "stdout",
     "output_type": "stream",
     "text": [
      "              precision    recall  f1-score   support\n",
      "\n",
      "           0       0.92      1.00      0.95    220140\n",
      "           1       0.99      0.89      0.94    182666\n",
      "\n",
      "    accuracy                           0.95    402806\n",
      "   macro avg       0.96      0.94      0.95    402806\n",
      "weighted avg       0.95      0.95      0.95    402806\n",
      "\n"
     ]
    }
   ],
   "source": [
    "rf_sm_model = RandomForestClassifier(max_depth=6, max_features=5, min_samples_split=7, n_estimators=100)\n",
    "rf_sm_model.fit(X_sm_new, y_sm_new)\n",
    "rf_sm_yhat = rf_sm_model.predict(X_sm_new)\n",
    "print(classification_report(y_sm_new, rf_sm_yhat))"
   ]
  },
  {
   "cell_type": "markdown",
   "metadata": {
    "id": "bgLG1OEPwdli"
   },
   "source": [
    "Agora vamos prever usando este modelo"
   ]
  },
  {
   "cell_type": "code",
   "execution_count": 43,
   "metadata": {
    "colab": {
     "base_uri": "https://localhost:8080/"
    },
    "id": "dGEdmYFawX6a",
    "outputId": "ce7342ae-a9e8-4069-f2c5-7ae94d37a43d"
   },
   "outputs": [
    {
     "name": "stdout",
     "output_type": "stream",
     "text": [
      "              precision    recall  f1-score   support\n",
      "\n",
      "           0       1.00      1.00      1.00     55035\n",
      "           1       0.26      0.89      0.41        98\n",
      "\n",
      "    accuracy                           1.00     55133\n",
      "   macro avg       0.63      0.94      0.70     55133\n",
      "weighted avg       1.00      1.00      1.00     55133\n",
      "\n"
     ]
    }
   ],
   "source": [
    "rf_sm_test_yhat = rf_sm_model.predict(X_test)\n",
    "print(classification_report(y_test, rf_sm_test_yhat))"
   ]
  },
  {
   "cell_type": "code",
   "execution_count": 44,
   "metadata": {},
   "outputs": [],
   "source": [
    "import pickle"
   ]
  },
  {
   "cell_type": "code",
   "execution_count": 45,
   "metadata": {
    "id": "8UUaEhg4wjez"
   },
   "outputs": [],
   "source": [
    "model = rf_sm_model\n",
    "pickle.dump(model, open('model.pkl', 'wb'))"
   ]
  },
  {
   "cell_type": "code",
   "execution_count": 46,
   "metadata": {},
   "outputs": [
    {
     "data": {
      "text/plain": [
       "array([0, 0, 0, ..., 0, 0, 0])"
      ]
     },
     "execution_count": 46,
     "metadata": {},
     "output_type": "execute_result"
    }
   ],
   "source": [
    "pickled_model = pickle.load(open('model.pkl', 'rb'))\n",
    "pickled_model.predict(X_test)"
   ]
  }
 ],
 "metadata": {
  "colab": {
   "provenance": []
  },
  "kernelspec": {
   "display_name": "Python 3.9.7 ('base')",
   "language": "python",
   "name": "python3"
  },
  "language_info": {
   "codemirror_mode": {
    "name": "ipython",
    "version": 3
   },
   "file_extension": ".py",
   "mimetype": "text/x-python",
   "name": "python",
   "nbconvert_exporter": "python",
   "pygments_lexer": "ipython3",
   "version": "3.9.7"
  },
  "vscode": {
   "interpreter": {
    "hash": "8ce08878d1f3c7db1c5c296694492155999b81bc44d4f923ac19bcb66eba504c"
   }
  }
 },
 "nbformat": 4,
 "nbformat_minor": 1
}
